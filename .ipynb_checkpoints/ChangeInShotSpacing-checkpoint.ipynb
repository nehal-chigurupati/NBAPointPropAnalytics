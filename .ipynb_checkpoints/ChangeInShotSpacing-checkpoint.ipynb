{
 "cells": [
  {
   "cell_type": "code",
   "execution_count": 9,
   "id": "c5f1c11b-b39e-4360-8d6a-924563d5f169",
   "metadata": {},
   "outputs": [],
   "source": [
    "import csv"
   ]
  },
  {
   "cell_type": "code",
   "execution_count": 10,
   "id": "265c4c22-e270-4949-9274-63968642f496",
   "metadata": {},
   "outputs": [],
   "source": [
    "fileIn = open('ClosestDefenderStats.csv')\n",
    "csvreader = csv.reader(fileIn)"
   ]
  },
  {
   "cell_type": "code",
   "execution_count": 11,
   "id": "100f81b8-b7b8-4147-973e-1e5ac8034a11",
   "metadata": {},
   "outputs": [],
   "source": [
    "Results = {}"
   ]
  },
  {
   "cell_type": "code",
   "execution_count": 12,
   "id": "242dfb92-c8cc-413f-afc9-9938e0dcfdac",
   "metadata": {},
   "outputs": [],
   "source": [
    "Results[\"header\"] = next(csvreader)"
   ]
  },
  {
   "cell_type": "code",
   "execution_count": 13,
   "id": "6b67bde5-1341-463f-ab0a-ebc4fb62cb10",
   "metadata": {},
   "outputs": [
    {
     "name": "stdout",
     "output_type": "stream",
     "text": [
      "{'header': ['\\ufeffPlayer', 'Season', 'Very Tight Freq', 'Very Tight 2PT Attempts', 'Very Tight 2PT Makes', 'Very Tight 3PT attempts', 'Very Tight 3PT Makes', 'Tight freq', 'Tight 2PT Attempts', 'Tight 2PT Makes', 'Tight 3PT Attempts', 'Tight 3PT Makes', 'Open Freq', 'Open 2PT Attempts', 'Open 2PT Makes', 'Open 3PT Attempts', 'Open 3PT Attempts', 'Wide Open Freq', 'Wide Open 2PT Attempts', 'Wide Open 2PT Makes', 'Wide Open 3PT Attempts', 'Wide Open 3PT Makes', '']}\n"
     ]
    }
   ],
   "source": [
    "print(Results)"
   ]
  },
  {
   "cell_type": "code",
   "execution_count": 14,
   "id": "b2444e09-1f08-4c8e-b065-c0739100b7d7",
   "metadata": {},
   "outputs": [],
   "source": [
    "Results[\"22-23\"] = next(csvreader)\n",
    "Results[\"21-22\"] = next(csvreader)\n",
    "Results[\"20-21\"] = next(csvreader)\n",
    "Results[\"19-20\"] = next(csvreader)\n",
    "Results[\"18-19\"] = next(csvreader)\n",
    "Results[\"17-18\"] = next(csvreader)"
   ]
  },
  {
   "cell_type": "code",
   "execution_count": 15,
   "id": "67b2236b-af99-444f-848b-ae7e380b44df",
   "metadata": {},
   "outputs": [],
   "source": [
    "X = [\"17-18\", \"18-19\", \"19-20\", \"20-21\", \"21-22\", \"22-23\"]"
   ]
  },
  {
   "cell_type": "code",
   "execution_count": null,
   "id": "330de582-2f8b-471c-b85b-128fecb7a756",
   "metadata": {},
   "outputs": [],
   "source": [
    "float(Results[\"20-21\"][2]) * 100, float(Results[\"21-22\"][2]) * 100, float(Results[\"22-23\"][2]) * 100]"
   ]
  }
 ],
 "metadata": {
  "kernelspec": {
   "display_name": "Python 3 (ipykernel)",
   "language": "python",
   "name": "python3"
  },
  "language_info": {
   "codemirror_mode": {
    "name": "ipython",
    "version": 3
   },
   "file_extension": ".py",
   "mimetype": "text/x-python",
   "name": "python",
   "nbconvert_exporter": "python",
   "pygments_lexer": "ipython3",
   "version": "3.11.4"
  }
 },
 "nbformat": 4,
 "nbformat_minor": 5
}
