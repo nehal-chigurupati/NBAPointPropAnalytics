{
 "cells": [
  {
   "cell_type": "code",
   "execution_count": 46,
   "id": "3f14a60c-d530-4fb7-9c06-a6493a741246",
   "metadata": {},
   "outputs": [],
   "source": [
    "#API and numerical imports\n",
    "from nba_api.stats.static import teams, players\n",
    "from nba_api.stats.endpoints import playercareerstats, leaguegamefinder, playergamelog, boxscoreadvancedv3\n",
    "from nba_api.stats.library.parameters import Season, SeasonType\n",
    "import pandas as pd\n",
    "import numpy as np\n",
    "from datetime import date\n",
    "import matplotlib.pyplot as plt"
   ]
  },
  {
   "cell_type": "code",
   "execution_count": 47,
   "id": "e703f81f-2933-4e04-8e2a-c2619159eaef",
   "metadata": {},
   "outputs": [],
   "source": [
    "#Machine learning imports\n",
    "from sklearn.model_selection import train_test_split\n",
    "import sklearn\n",
    "import keras\n",
    "from keras.models import Sequential\n",
    "from keras.layers import Dense\n",
    "import tensorflow as tf\n",
    "from sklearn.metrics import confusion_matrix, ConfusionMatrixDisplay\n",
    "from sklearn.preprocessing import MinMaxScaler"
   ]
  },
  {
   "cell_type": "code",
   "execution_count": 48,
   "id": "a8fa8373-cab7-4f39-a5aa-21ba03259a1b",
   "metadata": {},
   "outputs": [],
   "source": [
    "#Predict above/below this number\n",
    "point_threshold = '20.5' "
   ]
  },
  {
   "cell_type": "code",
   "execution_count": 49,
   "id": "4305e6f3-4df9-411d-a811-1410ba074503",
   "metadata": {},
   "outputs": [],
   "source": [
    "#Retrieve player info (id, first name, last name, is_active, etc.\n",
    "player_full_name = \"Jordan Clarkson\"\n",
    "player_details = [p for p in players.get_players() if p[\"full_name\"] == player_full_name][0]"
   ]
  },
  {
   "cell_type": "code",
   "execution_count": 50,
   "id": "2871f5af-7de1-4a53-9635-6257af73bff9",
   "metadata": {},
   "outputs": [],
   "source": [
    "#Retrieve all the seasons the player has been in the league\n",
    "career_stats = playercareerstats.PlayerCareerStats(player_id=player_details['id']).get_data_frames()[0]\n",
    "seasons = career_stats['SEASON_ID']"
   ]
  },
  {
   "cell_type": "code",
   "execution_count": 51,
   "id": "9f2a09ac-203e-4e47-9d4b-88fba006c2d2",
   "metadata": {},
   "outputs": [],
   "source": [
    "#Fix type of season\n",
    "season_type = SeasonType.regular"
   ]
  },
  {
   "cell_type": "code",
   "execution_count": 52,
   "id": "346662fa-0649-414a-b824-1ab16e24ecf6",
   "metadata": {},
   "outputs": [],
   "source": [
    "#Retrieve game-by-game stats for player \n",
    "season_data = {}\n",
    "for s in seasons:\n",
    "    season_data[s] = playergamelog.PlayerGameLog(player_id=player_details['id'], season=s, season_type_all_star=season_type).get_data_frames()[0]"
   ]
  },
  {
   "cell_type": "code",
   "execution_count": 53,
   "id": "29b163bc-0286-408c-8dba-e02f6ea30ee2",
   "metadata": {},
   "outputs": [
    {
     "data": {
      "text/plain": [
       "\"\\nFor each game, we want to extract the following information for training:\\n1. Opponent\\n2. Player's team\\n3. Days since last game\\n4. Game number\\n5. Average PPG since start of season\\n\""
      ]
     },
     "execution_count": 53,
     "metadata": {},
     "output_type": "execute_result"
    }
   ],
   "source": [
    "\"\"\"\n",
    "For each game, we want to extract the following information for training:\n",
    "1. Opponent\n",
    "2. Player's team\n",
    "3. Days since last game\n",
    "4. Game number\n",
    "5. Average PPG since start of season\n",
    "\"\"\"\n"
   ]
  },
  {
   "cell_type": "code",
   "execution_count": 54,
   "id": "b73dc4ed-cf41-464b-ba40-181080813a64",
   "metadata": {},
   "outputs": [],
   "source": [
    "#Form training arrays\n",
    "#Entries in each tuple agree with the above\n",
    "X = []\n",
    "#Y will be 1 if player scores above threshold, 0 if below\n",
    "Y = []"
   ]
  },
  {
   "cell_type": "code",
   "execution_count": 55,
   "id": "d6286094-7f97-446c-8245-23dae65cbb37",
   "metadata": {},
   "outputs": [],
   "source": [
    "#Label training data\n",
    "for season in season_data.keys():\n",
    "    currSeason = season_data[season]\n",
    "    for ind in currSeason.index:\n",
    "        if float(currSeason['PTS'][ind]) > float(point_threshold):\n",
    "            Y.append(1)\n",
    "        else:\n",
    "            Y.append(0)"
   ]
  },
  {
   "cell_type": "code",
   "execution_count": 56,
   "id": "5000f852-f8c7-41f8-b56d-3452163ecb74",
   "metadata": {},
   "outputs": [
    {
     "name": "stdout",
     "output_type": "stream",
     "text": [
      "218\n"
     ]
    }
   ],
   "source": [
    "print(len(Y))"
   ]
  },
  {
   "cell_type": "code",
   "execution_count": 57,
   "id": "12be5109-439d-4941-a8aa-d452a57c4da0",
   "metadata": {},
   "outputs": [],
   "source": [
    "def correct_id(abbrev):\n",
    "    if abbrev == \"NJN\":\n",
    "        return \"BKN\"\n",
    "    elif abbrev == \"NOH\" or abbrev == \"NOK\":\n",
    "        return \"NOP\"\n",
    "    elif abbrev == \"SEA\":\n",
    "        return \"OKC\"\n",
    "    elif abbrev == \"PHO\":\n",
    "        return \"PHX\"\n",
    "    elif abbrev == \"GOS\":\n",
    "        return \"GSW\"\n",
    "    else:\n",
    "        return abbrev"
   ]
  },
  {
   "cell_type": "code",
   "execution_count": 58,
   "id": "d170ce85-86d7-470f-ac08-31b59127b054",
   "metadata": {},
   "outputs": [],
   "source": [
    "def get_team_id_from_abbrev(abbrev):\n",
    "    abbrev = correct_id(abbrev)\n",
    "    return [t for t in teams.get_teams() if t['abbreviation'] == abbrev][0]['id']"
   ]
  },
  {
   "cell_type": "code",
   "execution_count": 59,
   "id": "b8dae516-933c-4b20-9d87-e89cf47558c8",
   "metadata": {},
   "outputs": [],
   "source": [
    "#Collect player team and opponent team IDs for training data\n",
    "player_team_ids = []\n",
    "opp_team_ids = []\n",
    "for season in season_data.keys():\n",
    "    currSeason = season_data[season]\n",
    "    for ind in currSeason.index:\n",
    "        matchup = str(currSeason['MATCHUP'][ind])\n",
    "        player_team_abbrev = matchup[0:3]\n",
    "\n",
    "        #@ index\n",
    "        if \"@\" in matchup:\n",
    "            opp_team_abbrev = matchup[6:]\n",
    "        elif \"vs.\" in matchup:\n",
    "            opp_team_abbrev = matchup[8:]\n",
    "        else:\n",
    "            raise Exception(\"Unconforming matchup string: \" + matchup)\n",
    "\n",
    "        player_team_ids.append(get_team_id_from_abbrev(player_team_abbrev))\n",
    "        opp_team_ids.append(get_team_id_from_abbrev(opp_team_abbrev))"
   ]
  },
  {
   "cell_type": "code",
   "execution_count": 60,
   "id": "48d4dfbe-48b3-49e1-b1b6-1ba9ca0fd3a0",
   "metadata": {},
   "outputs": [],
   "source": [
    "#Get defensive rating\n"
   ]
  },
  {
   "cell_type": "code",
   "execution_count": null,
   "id": "3ccfe22f-0774-4557-adc0-d5b82994fbe0",
   "metadata": {},
   "outputs": [],
   "source": []
  },
  {
   "cell_type": "code",
   "execution_count": 61,
   "id": "1e305956-82ce-446a-833d-4fc66b76f775",
   "metadata": {},
   "outputs": [],
   "source": [
    "months = {\n",
    "    \"JAN\": 1,\n",
    "    \"FEB\": 2,\n",
    "    \"MAR\": 3,\n",
    "    \"APR\": 4,\n",
    "    \"MAY\": 5,\n",
    "    \"JUN\": 6,\n",
    "    \"JUL\": 7,\n",
    "    \"AUG\": 8,\n",
    "    \"OCT\": 10,\n",
    "    \"NOV\": 11,\n",
    "    \"DEC\": 12\n",
    "}\n",
    "def convert_human_date(d):\n",
    "    month = months[d[0:3]]\n",
    "    day = int(d[4:6])\n",
    "    year = int(d[8:])\n",
    "\n",
    "    return date(year, month, day)\n",
    "    "
   ]
  },
  {
   "cell_type": "code",
   "execution_count": 62,
   "id": "8c6a6c04-a2b7-4037-99e3-75a68de2dfb9",
   "metadata": {},
   "outputs": [],
   "source": [
    "def distance_between_dates(d1, d2):\n",
    "    return int((d2 - d1).days)"
   ]
  },
  {
   "cell_type": "code",
   "execution_count": 63,
   "id": "e3bfa762-f9ca-4451-aebc-4ec33d8dda89",
   "metadata": {},
   "outputs": [],
   "source": [
    "#default days of rest set for the first game of the season:\n",
    "first_game_rest = 7"
   ]
  },
  {
   "cell_type": "code",
   "execution_count": 64,
   "id": "cfb9e1e6-b962-43d7-b22e-bd48da3daaba",
   "metadata": {},
   "outputs": [],
   "source": [
    "#Compute days since last game\n",
    "days_since_last_game = []\n",
    "for season in season_data.keys():\n",
    "    currSeason = season_data[season]\n",
    "    for ind in currSeason.index:\n",
    "        if (ind + 1) == len(currSeason.index):\n",
    "            days_since_last_game.append(first_game_rest)\n",
    "        else:\n",
    "            currGameDate = convert_human_date(str(currSeason[\"GAME_DATE\"][ind]))\n",
    "            lastGameDate = convert_human_date(str(currSeason[\"GAME_DATE\"][ind+1]))\n",
    "            days_since_last_game.append(distance_between_dates(lastGameDate, currGameDate))\n",
    "            "
   ]
  },
  {
   "cell_type": "code",
   "execution_count": 65,
   "id": "bbfb2516-f1e3-4dca-a8e9-9162884e0aad",
   "metadata": {},
   "outputs": [],
   "source": [
    "#Get the game number, in terms of the number of games that player has played in the season\n",
    "game_numbers = []\n",
    "for season in season_data.keys():\n",
    "    for ind in season_data[season].index:\n",
    "        game_numbers.append(len(season_data[season].index) - ind)"
   ]
  },
  {
   "cell_type": "code",
   "execution_count": 66,
   "id": "0ae5fa09-aa06-44bd-919f-0bc4dd0178f3",
   "metadata": {},
   "outputs": [],
   "source": [
    "#default average ppg since start of season for player\n",
    "default_first_game_ppg = 0.0"
   ]
  },
  {
   "cell_type": "code",
   "execution_count": 67,
   "id": "af98b60b-9a30-4e9c-a490-186564dd2ca8",
   "metadata": {},
   "outputs": [],
   "source": [
    "#Compute average ppg since start of season\n",
    "average_ppg = []\n",
    "for season in season_data.keys():\n",
    "    currSeason = season_data[season]\n",
    "    for ind in currSeason.index:\n",
    "        if (ind + 1) == len(currSeason.index):\n",
    "            average_ppg.append(default_first_game_ppg)\n",
    "        else:\n",
    "            sum = 0.0\n",
    "            for pts in currSeason[\"PTS\"][ind+1:len(currSeason.index)]:\n",
    "                sum += float(pts)\n",
    "            average_ppg.append(sum / (len(currSeason.index) - ind - 1))"
   ]
  },
  {
   "cell_type": "code",
   "execution_count": 68,
   "id": "bbc3478b-cec0-4b95-bc9b-f2cb4d0fc0cd",
   "metadata": {},
   "outputs": [],
   "source": [
    "#Zip together all the training input data\n",
    "for i in range(len(game_numbers)):\n",
    "    X.append([float(player_team_ids[i]), float(opp_team_ids[i]), float(days_since_last_game[i]), float(game_numbers[i]), average_ppg[i]])"
   ]
  },
  {
   "cell_type": "code",
   "execution_count": 69,
   "id": "c61a4e71-5c3a-45e7-97c3-2410427ad2b4",
   "metadata": {},
   "outputs": [
    {
     "data": {
      "text/plain": [
       "'\\nBelow we start doing preprocessing\\n'"
      ]
     },
     "execution_count": 69,
     "metadata": {},
     "output_type": "execute_result"
    }
   ],
   "source": [
    "\"\"\"\n",
    "Below we start doing preprocessing\n",
    "\"\"\""
   ]
  },
  {
   "cell_type": "code",
   "execution_count": 70,
   "id": "1a9d6d6d-61e5-4cbe-bbee-e1a30c965bf0",
   "metadata": {},
   "outputs": [],
   "source": [
    "Y = pd.DataFrame(Y)"
   ]
  },
  {
   "cell_type": "code",
   "execution_count": 71,
   "id": "ce15cd9f-9c37-46e6-8e8c-184f512f2121",
   "metadata": {},
   "outputs": [],
   "source": [
    "X = pd.DataFrame(X)"
   ]
  },
  {
   "cell_type": "code",
   "execution_count": 72,
   "id": "284be8d6-de97-407e-a74a-6875d1d1bcb3",
   "metadata": {},
   "outputs": [
    {
     "name": "stdout",
     "output_type": "stream",
     "text": [
      "218\n"
     ]
    }
   ],
   "source": [
    "print(len(Y.index))"
   ]
  },
  {
   "cell_type": "code",
   "execution_count": 73,
   "id": "aa1849ed-dca3-4b58-97c0-a04824d7f591",
   "metadata": {},
   "outputs": [],
   "source": [
    "scaler = MinMaxScaler()\n",
    "scaler.fit(X)\n",
    "t_X = scaler.transform(X)"
   ]
  },
  {
   "cell_type": "code",
   "execution_count": 74,
   "id": "02a288b9-6f83-4184-99b1-f6d0661c5be8",
   "metadata": {},
   "outputs": [],
   "source": [
    "X_train, X_test, Y_train, Y_test = train_test_split(t_X, Y, test_size=0.25, random_state=0)"
   ]
  },
  {
   "cell_type": "code",
   "execution_count": 75,
   "id": "383ed644-a43c-4405-ae29-3344741a9ba0",
   "metadata": {},
   "outputs": [
    {
     "data": {
      "text/plain": [
       "'\\nNext, we begin constructing the classification model\\n'"
      ]
     },
     "execution_count": 75,
     "metadata": {},
     "output_type": "execute_result"
    }
   ],
   "source": [
    "\"\"\"\n",
    "Next, we begin constructing the classification model\n",
    "\"\"\""
   ]
  },
  {
   "cell_type": "code",
   "execution_count": 76,
   "id": "3914ee91-7f34-4174-a287-0dd3fd90d431",
   "metadata": {},
   "outputs": [],
   "source": [
    "basic_model = Sequential()"
   ]
  },
  {
   "cell_type": "code",
   "execution_count": 77,
   "id": "02723c23-a046-4c51-97f0-f97dcc3adb73",
   "metadata": {},
   "outputs": [],
   "source": [
    "basic_model.add(Dense(units=60, activation='relu', input_shape=(5,)))\n",
    "basic_model.add(Dense(units=40, activation='relu'))\n",
    "basic_model.add(Dense(units=20, activation='sigmoid'))\n",
    "basic_model.add(Dense(1, activation='sigmoid'))"
   ]
  },
  {
   "cell_type": "code",
   "execution_count": 78,
   "id": "49238f2a-ad8a-4849-bb85-96ac69e05e62",
   "metadata": {},
   "outputs": [],
   "source": [
    "adam = keras.optimizers.legacy.Adam(learning_rate=0.001)"
   ]
  },
  {
   "cell_type": "code",
   "execution_count": 79,
   "id": "d8b9ded5-e49a-4f9a-8c28-abd2da40f7e0",
   "metadata": {},
   "outputs": [],
   "source": [
    "basic_model.compile(loss='binary_crossentropy', optimizer=adam, metrics=['accuracy'])"
   ]
  },
  {
   "cell_type": "code",
   "execution_count": 80,
   "id": "a1cae255-4587-41ec-954f-fc586ac349ca",
   "metadata": {},
   "outputs": [],
   "source": [
    "#Fit model"
   ]
  },
  {
   "cell_type": "code",
   "execution_count": 81,
   "id": "e1479560-efa3-4974-a585-7d7dc358345d",
   "metadata": {},
   "outputs": [
    {
     "name": "stdout",
     "output_type": "stream",
     "text": [
      "Epoch 1/100\n",
      "6/6 [==============================] - 0s 775us/step - loss: 0.5160 - accuracy: 0.8221\n",
      "Epoch 2/100\n",
      "6/6 [==============================] - 0s 602us/step - loss: 0.5020 - accuracy: 0.8221\n",
      "Epoch 3/100\n",
      "6/6 [==============================] - 0s 683us/step - loss: 0.4932 - accuracy: 0.8221\n",
      "Epoch 4/100\n",
      "6/6 [==============================] - 0s 608us/step - loss: 0.4881 - accuracy: 0.8221\n",
      "Epoch 5/100\n",
      "6/6 [==============================] - 0s 529us/step - loss: 0.4836 - accuracy: 0.8221\n",
      "Epoch 6/100\n",
      "6/6 [==============================] - 0s 554us/step - loss: 0.4794 - accuracy: 0.8221\n",
      "Epoch 7/100\n",
      "6/6 [==============================] - 0s 580us/step - loss: 0.4753 - accuracy: 0.8221\n",
      "Epoch 8/100\n",
      "6/6 [==============================] - 0s 654us/step - loss: 0.4711 - accuracy: 0.8221\n",
      "Epoch 9/100\n",
      "6/6 [==============================] - 0s 612us/step - loss: 0.4683 - accuracy: 0.8221\n",
      "Epoch 10/100\n",
      "6/6 [==============================] - 0s 2ms/step - loss: 0.4661 - accuracy: 0.8221\n",
      "Epoch 11/100\n",
      "6/6 [==============================] - 0s 848us/step - loss: 0.4645 - accuracy: 0.8221\n",
      "Epoch 12/100\n",
      "6/6 [==============================] - 0s 1ms/step - loss: 0.4635 - accuracy: 0.8221\n",
      "Epoch 13/100\n",
      "6/6 [==============================] - 0s 919us/step - loss: 0.4637 - accuracy: 0.8221\n",
      "Epoch 14/100\n",
      "6/6 [==============================] - 0s 1ms/step - loss: 0.4629 - accuracy: 0.8221\n",
      "Epoch 15/100\n",
      "6/6 [==============================] - 0s 825us/step - loss: 0.4615 - accuracy: 0.8221\n",
      "Epoch 16/100\n",
      "6/6 [==============================] - 0s 881us/step - loss: 0.4598 - accuracy: 0.8221\n",
      "Epoch 17/100\n",
      "6/6 [==============================] - 0s 725us/step - loss: 0.4564 - accuracy: 0.8221\n",
      "Epoch 18/100\n",
      "6/6 [==============================] - 0s 2ms/step - loss: 0.4542 - accuracy: 0.8221\n",
      "Epoch 19/100\n",
      "6/6 [==============================] - 0s 552us/step - loss: 0.4517 - accuracy: 0.8221\n",
      "Epoch 20/100\n",
      "6/6 [==============================] - 0s 670us/step - loss: 0.4540 - accuracy: 0.8221\n",
      "Epoch 21/100\n",
      "6/6 [==============================] - 0s 1ms/step - loss: 0.4502 - accuracy: 0.8221\n",
      "Epoch 22/100\n",
      "6/6 [==============================] - 0s 611us/step - loss: 0.4487 - accuracy: 0.8221\n",
      "Epoch 23/100\n",
      "6/6 [==============================] - 0s 845us/step - loss: 0.4473 - accuracy: 0.8221\n",
      "Epoch 24/100\n",
      "6/6 [==============================] - 0s 762us/step - loss: 0.4468 - accuracy: 0.8221\n",
      "Epoch 25/100\n",
      "6/6 [==============================] - 0s 613us/step - loss: 0.4452 - accuracy: 0.8221\n",
      "Epoch 26/100\n",
      "6/6 [==============================] - 0s 570us/step - loss: 0.4447 - accuracy: 0.8221\n",
      "Epoch 27/100\n",
      "6/6 [==============================] - 0s 690us/step - loss: 0.4440 - accuracy: 0.8221\n",
      "Epoch 28/100\n",
      "6/6 [==============================] - 0s 617us/step - loss: 0.4431 - accuracy: 0.8221\n",
      "Epoch 29/100\n",
      "6/6 [==============================] - 0s 590us/step - loss: 0.4401 - accuracy: 0.8221\n",
      "Epoch 30/100\n",
      "6/6 [==============================] - 0s 620us/step - loss: 0.4389 - accuracy: 0.8221\n",
      "Epoch 31/100\n",
      "6/6 [==============================] - 0s 623us/step - loss: 0.4382 - accuracy: 0.8221\n",
      "Epoch 32/100\n",
      "6/6 [==============================] - 0s 571us/step - loss: 0.4363 - accuracy: 0.8221\n",
      "Epoch 33/100\n",
      "6/6 [==============================] - 0s 574us/step - loss: 0.4358 - accuracy: 0.8221\n",
      "Epoch 34/100\n",
      "6/6 [==============================] - 0s 620us/step - loss: 0.4347 - accuracy: 0.8221\n",
      "Epoch 35/100\n",
      "6/6 [==============================] - 0s 837us/step - loss: 0.4340 - accuracy: 0.8221\n",
      "Epoch 36/100\n",
      "6/6 [==============================] - 0s 578us/step - loss: 0.4339 - accuracy: 0.8221\n",
      "Epoch 37/100\n",
      "6/6 [==============================] - 0s 541us/step - loss: 0.4338 - accuracy: 0.8221\n",
      "Epoch 38/100\n",
      "6/6 [==============================] - 0s 832us/step - loss: 0.4317 - accuracy: 0.8221\n",
      "Epoch 39/100\n",
      "6/6 [==============================] - 0s 519us/step - loss: 0.4292 - accuracy: 0.8221\n",
      "Epoch 40/100\n",
      "6/6 [==============================] - 0s 570us/step - loss: 0.4336 - accuracy: 0.8221\n",
      "Epoch 41/100\n",
      "6/6 [==============================] - 0s 2ms/step - loss: 0.4357 - accuracy: 0.8221\n",
      "Epoch 42/100\n",
      "6/6 [==============================] - 0s 1ms/step - loss: 0.4379 - accuracy: 0.8221\n",
      "Epoch 43/100\n",
      "6/6 [==============================] - 0s 621us/step - loss: 0.4368 - accuracy: 0.8221\n",
      "Epoch 44/100\n",
      "6/6 [==============================] - 0s 586us/step - loss: 0.4321 - accuracy: 0.8221\n",
      "Epoch 45/100\n",
      "6/6 [==============================] - 0s 561us/step - loss: 0.4285 - accuracy: 0.8221\n",
      "Epoch 46/100\n",
      "6/6 [==============================] - 0s 594us/step - loss: 0.4258 - accuracy: 0.8221\n",
      "Epoch 47/100\n",
      "6/6 [==============================] - 0s 628us/step - loss: 0.4256 - accuracy: 0.8221\n",
      "Epoch 48/100\n",
      "6/6 [==============================] - 0s 579us/step - loss: 0.4252 - accuracy: 0.8221\n",
      "Epoch 49/100\n",
      "6/6 [==============================] - 0s 591us/step - loss: 0.4243 - accuracy: 0.8221\n",
      "Epoch 50/100\n",
      "6/6 [==============================] - 0s 672us/step - loss: 0.4237 - accuracy: 0.8221\n",
      "Epoch 51/100\n",
      "6/6 [==============================] - 0s 533us/step - loss: 0.4238 - accuracy: 0.8221\n",
      "Epoch 52/100\n",
      "6/6 [==============================] - 0s 562us/step - loss: 0.4229 - accuracy: 0.8221\n",
      "Epoch 53/100\n",
      "6/6 [==============================] - 0s 581us/step - loss: 0.4207 - accuracy: 0.8221\n",
      "Epoch 54/100\n",
      "6/6 [==============================] - 0s 630us/step - loss: 0.4205 - accuracy: 0.8221\n",
      "Epoch 55/100\n",
      "6/6 [==============================] - 0s 617us/step - loss: 0.4195 - accuracy: 0.8221\n",
      "Epoch 56/100\n",
      "6/6 [==============================] - 0s 592us/step - loss: 0.4184 - accuracy: 0.8221\n",
      "Epoch 57/100\n",
      "6/6 [==============================] - 0s 605us/step - loss: 0.4173 - accuracy: 0.8221\n",
      "Epoch 58/100\n",
      "6/6 [==============================] - 0s 560us/step - loss: 0.4183 - accuracy: 0.8221\n",
      "Epoch 59/100\n",
      "6/6 [==============================] - 0s 542us/step - loss: 0.4204 - accuracy: 0.8221\n",
      "Epoch 60/100\n",
      "6/6 [==============================] - 0s 578us/step - loss: 0.4185 - accuracy: 0.8221\n",
      "Epoch 61/100\n",
      "6/6 [==============================] - 0s 604us/step - loss: 0.4149 - accuracy: 0.8221\n",
      "Epoch 62/100\n",
      "6/6 [==============================] - 0s 574us/step - loss: 0.4174 - accuracy: 0.8221\n",
      "Epoch 63/100\n",
      "6/6 [==============================] - 0s 548us/step - loss: 0.4158 - accuracy: 0.8221\n",
      "Epoch 64/100\n",
      "6/6 [==============================] - 0s 551us/step - loss: 0.4146 - accuracy: 0.8221\n",
      "Epoch 65/100\n",
      "6/6 [==============================] - 0s 550us/step - loss: 0.4134 - accuracy: 0.8221\n",
      "Epoch 66/100\n",
      "6/6 [==============================] - 0s 629us/step - loss: 0.4130 - accuracy: 0.8221\n",
      "Epoch 67/100\n",
      "6/6 [==============================] - 0s 576us/step - loss: 0.4126 - accuracy: 0.8221\n",
      "Epoch 68/100\n",
      "6/6 [==============================] - 0s 607us/step - loss: 0.4117 - accuracy: 0.8221\n",
      "Epoch 69/100\n",
      "6/6 [==============================] - 0s 614us/step - loss: 0.4112 - accuracy: 0.8221\n",
      "Epoch 70/100\n",
      "6/6 [==============================] - 0s 512us/step - loss: 0.4099 - accuracy: 0.8221\n",
      "Epoch 71/100\n",
      "6/6 [==============================] - 0s 523us/step - loss: 0.4096 - accuracy: 0.8221\n",
      "Epoch 72/100\n",
      "6/6 [==============================] - 0s 547us/step - loss: 0.4100 - accuracy: 0.8221\n",
      "Epoch 73/100\n",
      "6/6 [==============================] - 0s 630us/step - loss: 0.4089 - accuracy: 0.8221\n",
      "Epoch 74/100\n",
      "6/6 [==============================] - 0s 592us/step - loss: 0.4076 - accuracy: 0.8221\n",
      "Epoch 75/100\n",
      "6/6 [==============================] - 0s 545us/step - loss: 0.4084 - accuracy: 0.8221\n",
      "Epoch 76/100\n",
      "6/6 [==============================] - 0s 532us/step - loss: 0.4079 - accuracy: 0.8221\n",
      "Epoch 77/100\n",
      "6/6 [==============================] - 0s 551us/step - loss: 0.4065 - accuracy: 0.8221\n",
      "Epoch 78/100\n",
      "6/6 [==============================] - 0s 692us/step - loss: 0.4061 - accuracy: 0.8221\n",
      "Epoch 79/100\n",
      "6/6 [==============================] - 0s 532us/step - loss: 0.4055 - accuracy: 0.8221\n",
      "Epoch 80/100\n",
      "6/6 [==============================] - 0s 553us/step - loss: 0.4048 - accuracy: 0.8221\n",
      "Epoch 81/100\n",
      "6/6 [==============================] - 0s 548us/step - loss: 0.4063 - accuracy: 0.8221\n",
      "Epoch 82/100\n",
      "6/6 [==============================] - 0s 608us/step - loss: 0.4063 - accuracy: 0.8221\n",
      "Epoch 83/100\n",
      "6/6 [==============================] - 0s 550us/step - loss: 0.4068 - accuracy: 0.8221\n",
      "Epoch 84/100\n",
      "6/6 [==============================] - 0s 559us/step - loss: 0.4076 - accuracy: 0.8221\n",
      "Epoch 85/100\n",
      "6/6 [==============================] - 0s 554us/step - loss: 0.4064 - accuracy: 0.8221\n",
      "Epoch 86/100\n",
      "6/6 [==============================] - 0s 529us/step - loss: 0.4061 - accuracy: 0.8221\n",
      "Epoch 87/100\n",
      "6/6 [==============================] - 0s 567us/step - loss: 0.4056 - accuracy: 0.8221\n",
      "Epoch 88/100\n",
      "6/6 [==============================] - 0s 590us/step - loss: 0.4026 - accuracy: 0.8221\n",
      "Epoch 89/100\n",
      "6/6 [==============================] - 0s 560us/step - loss: 0.4025 - accuracy: 0.8221\n",
      "Epoch 90/100\n",
      "6/6 [==============================] - 0s 539us/step - loss: 0.4019 - accuracy: 0.8221\n",
      "Epoch 91/100\n",
      "6/6 [==============================] - 0s 553us/step - loss: 0.4018 - accuracy: 0.8221\n",
      "Epoch 92/100\n",
      "6/6 [==============================] - 0s 572us/step - loss: 0.3988 - accuracy: 0.8221\n",
      "Epoch 93/100\n",
      "6/6 [==============================] - 0s 606us/step - loss: 0.3989 - accuracy: 0.8221\n",
      "Epoch 94/100\n",
      "6/6 [==============================] - 0s 584us/step - loss: 0.4002 - accuracy: 0.8221\n",
      "Epoch 95/100\n",
      "6/6 [==============================] - 0s 544us/step - loss: 0.3982 - accuracy: 0.8221\n",
      "Epoch 96/100\n",
      "6/6 [==============================] - 0s 585us/step - loss: 0.3982 - accuracy: 0.8221\n",
      "Epoch 97/100\n",
      "6/6 [==============================] - 0s 656us/step - loss: 0.3967 - accuracy: 0.8221\n",
      "Epoch 98/100\n",
      "6/6 [==============================] - 0s 589us/step - loss: 0.3978 - accuracy: 0.8221\n",
      "Epoch 99/100\n",
      "6/6 [==============================] - 0s 615us/step - loss: 0.3960 - accuracy: 0.8221\n",
      "Epoch 100/100\n",
      "6/6 [==============================] - 0s 583us/step - loss: 0.3973 - accuracy: 0.8221\n"
     ]
    },
    {
     "data": {
      "text/plain": [
       "<keras.src.callbacks.History at 0x28e4ddd10>"
      ]
     },
     "execution_count": 81,
     "metadata": {},
     "output_type": "execute_result"
    }
   ],
   "source": [
    "basic_model.fit(X_train, Y_train, epochs=100)"
   ]
  },
  {
   "cell_type": "code",
   "execution_count": 82,
   "id": "b2917eae-3eac-40b1-bf21-e0bd1ec47714",
   "metadata": {},
   "outputs": [],
   "source": [
    "#Evaluate on test data"
   ]
  },
  {
   "cell_type": "code",
   "execution_count": 83,
   "id": "81ed75d2-654e-4492-90ea-baab2e9576dd",
   "metadata": {},
   "outputs": [
    {
     "name": "stdout",
     "output_type": "stream",
     "text": [
      "2/2 [==============================] - 0s 1ms/step - loss: 0.4661 - accuracy: 0.7818\n",
      "[0.4661356806755066, 0.7818182110786438]\n",
      "Loss =  0.4661356806755066\n",
      "Accuracy =  0.7818182110786438\n"
     ]
    }
   ],
   "source": [
    "loss_and_metrics = basic_model.evaluate(X_test, Y_test)\n",
    "print(loss_and_metrics)\n",
    "print('Loss = ', loss_and_metrics[0])\n",
    "print('Accuracy = ', loss_and_metrics[1])"
   ]
  },
  {
   "cell_type": "code",
   "execution_count": 84,
   "id": "019f0d8c-7597-4ac4-97b8-0c7bf1068b9c",
   "metadata": {},
   "outputs": [
    {
     "name": "stdout",
     "output_type": "stream",
     "text": [
      "2/2 [==============================] - 0s 886us/step\n"
     ]
    },
    {
     "data": {
      "text/plain": [
       "<sklearn.metrics._plot.confusion_matrix.ConfusionMatrixDisplay at 0x28e72f7d0>"
      ]
     },
     "execution_count": 84,
     "metadata": {},
     "output_type": "execute_result"
    },
    {
     "data": {
      "image/png": "[encoded data removed]",
      "text/plain": [
       "<Figure size 640x480 with 2 Axes>"
      ]
     },
     "metadata": {},
     "output_type": "display_data"
    }
   ],
   "source": [
    "#Get confusion matrix\n",
    "predicted = basic_model.predict(X_test)\n",
    "predicted = tf.squeeze(predicted)\n",
    "predicted = np.array([1 if x >= 0.5 else 0 for x in predicted])\n",
    "actual = np.array(Y_test)\n",
    "conf_mat = confusion_matrix(actual, predicted)\n",
    "displ = ConfusionMatrixDisplay(confusion_matrix=conf_mat)\n",
    "displ.plot()"
   ]
  },
  {
   "cell_type": "code",
   "execution_count": 85,
   "id": "6b464420-a87c-4b81-b575-cb2efd0a0dae",
   "metadata": {},
   "outputs": [
    {
     "data": {
      "text/plain": [
       "'\\nNext, we have tools to calculate the desired input data for a player, to be used for predictions\\n'"
      ]
     },
     "execution_count": 85,
     "metadata": {},
     "output_type": "execute_result"
    }
   ],
   "source": [
    "\"\"\"\n",
    "Next, we have tools to calculate the desired input data for a player, to be used for predictions\n",
    "\"\"\""
   ]
  },
  {
   "cell_type": "code",
   "execution_count": 86,
   "id": "2c88f3b0-661d-470c-8921-cb6a5086faa7",
   "metadata": {},
   "outputs": [],
   "source": [
    "opp_abbrev = \"MEM\"\n",
    "player_team_abbrev = \"UTA\"\n",
    "game_date = \"NOV 29, 2023\""
   ]
  },
  {
   "cell_type": "code",
   "execution_count": 87,
   "id": "f7699e98-8cee-4151-bf55-6f8a1269f355",
   "metadata": {},
   "outputs": [],
   "source": [
    "opp_id, player_team_id = get_team_id_from_abbrev(opp_abbrev), get_team_id_from_abbrev(player_team_abbrev)\n",
    "days_elapsed = (convert_human_date(game_date) - convert_human_date(season_data[\"2023-24\"][\"GAME_DATE\"][0])).days\n",
    "game_number = len(season_data[\"2023-24\"].index) + 1\n",
    "average_ppg = 0.0\n",
    "currSeason = season_data['2023-24']\n",
    "for ind in currSeason.index:\n",
    "        if (ind + 1) == len(currSeason.index):\n",
    "            average_ppg = (default_first_game_ppg)\n",
    "        else:\n",
    "            sum = 0.0\n",
    "            for pts in currSeason[\"PTS\"][ind+1:len(currSeason.index)]:\n",
    "                sum += float(pts)\n",
    "            average_ppg = (sum / (len(currSeason.index) - ind - 1))\n",
    "input = pd.DataFrame([[float(player_team_id), float(opp_id), float(days_elapsed), float(game_number), float(average_ppg)]])"
   ]
  },
  {
   "cell_type": "code",
   "execution_count": 88,
   "id": "b7ae74cf-6cac-4e96-924e-b75f7c006501",
   "metadata": {},
   "outputs": [
    {
     "name": "stdout",
     "output_type": "stream",
     "text": [
      "              0             1    2     3    4\n",
      "0  1.610613e+09  1.610613e+09  3.0  17.0  0.0\n"
     ]
    }
   ],
   "source": [
    "print(input)"
   ]
  },
  {
   "cell_type": "code",
   "execution_count": 89,
   "id": "9e250492-ce12-4530-9897-a586029b1aff",
   "metadata": {},
   "outputs": [
    {
     "name": "stdout",
     "output_type": "stream",
     "text": [
      "1/1 [==============================] - 0s 20ms/step\n"
     ]
    }
   ],
   "source": [
    "prediction = basic_model.predict(input)"
   ]
  },
  {
   "cell_type": "code",
   "execution_count": 90,
   "id": "b5239736-e1eb-4af4-9251-48a5e524b0c6",
   "metadata": {},
   "outputs": [
    {
     "name": "stdout",
     "output_type": "stream",
     "text": [
      "[[0.03250661]]\n"
     ]
    }
   ],
   "source": [
    "print(prediction)"
   ]
  },
  {
   "cell_type": "code",
   "execution_count": null,
   "id": "6071d0f1-4202-4ece-9584-22a765c4900c",
   "metadata": {},
   "outputs": [],
   "source": []
  },
  {
   "cell_type": "code",
   "execution_count": null,
   "id": "7be206f5-aae2-4d80-b54b-9fe921f3881f",
   "metadata": {},
   "outputs": [],
   "source": []
  },
  {
   "cell_type": "code",
   "execution_count": null,
   "id": "69c33c76-f31e-491e-819f-a902d01f8db8",
   "metadata": {},
   "outputs": [],
   "source": []
  }
 ],
 "metadata": {
  "kernelspec": {
   "display_name": "Python 3 (ipykernel)",
   "language": "python",
   "name": "python3"
  },
  "language_info": {
   "codemirror_mode": {
    "name": "ipython",
    "version": 3
   },
   "file_extension": ".py",
   "mimetype": "text/x-python",
   "name": "python",
   "nbconvert_exporter": "python",
   "pygments_lexer": "ipython3",
   "version": "3.11.4"
  }
 },
 "nbformat": 4,
 "nbformat_minor": 5
}
