{
 "cells": [
  {
   "cell_type": "code",
   "execution_count": 1,
   "id": "0bcc9412-0c97-4b3c-a4cb-34cf6c1332f9",
   "metadata": {},
   "outputs": [],
   "source": [
    "from nba_api.stats.static import teams, players\n",
    "from nba_api.stats.endpoints import playercareerstats, leaguegamefinder, playergamelog, boxscoreadvancedv3, teamestimatedmetrics, playerestimatedmetrics\n",
    "from nba_api.stats.library.parameters import Season, SeasonType\n",
    "import pandas as pd\n",
    "import numpy as np\n",
    "from datetime import date\n",
    "import matplotlib.pyplot as plt"
   ]
  },
  {
   "cell_type": "code",
   "execution_count": 63,
   "id": "ea1a1a2d-fe59-4969-ae2f-ac419ea61bdf",
   "metadata": {},
   "outputs": [],
   "source": [
    "from sklearn.model_selection import train_test_split\n",
    "from sklearn.linear_model import RidgeClassifier\n",
    "import statsmodels.api as sm\n",
    "from sklearn.naive_bayes import GaussianNB\n",
    "from sklearn.ensemble import GradientBoostingClassifier, RandomForestClassifier\n",
    "from sklearn.tree import DecisionTreeClassifier\n",
    "from sklearn.linear_model import LogisticRegression\n",
    "from sklearn.svm import SVC\n",
    "from sklearn.decomposition import PCA\n",
    "from sklearn.model_selection import cross_val_score\n",
    "import sklearn\n",
    "import keras\n",
    "from keras.models import Sequential\n",
    "from keras.layers import Dense\n",
    "import tensorflow as tf\n",
    "from sklearn.metrics import confusion_matrix, ConfusionMatrixDisplay\n",
    "from sklearn.preprocessing import MinMaxScaler"
   ]
  },
  {
   "cell_type": "code",
   "execution_count": 3,
   "id": "34dfc5c0-8435-43ae-b6cc-ddf83381e54d",
   "metadata": {},
   "outputs": [],
   "source": [
    "#Predict above/below this number\n",
    "point_threshold = \"27.5\"\n",
    "player_full_name = \"Tyrese Haliburton\"\n",
    "player_team_abbr = \"IND\"\n",
    "opp_team_abbrev = \"BOS\"\n",
    "game_date = \"DEC 04, 2023\""
   ]
  },
  {
   "cell_type": "code",
   "execution_count": 4,
   "id": "e86b6047-ac43-4585-adb6-5426a536b002",
   "metadata": {},
   "outputs": [],
   "source": [
    "#Fetch player data\n",
    "player_details = [p for p in players.get_players() if p[\"full_name\"] == player_full_name][0]\n",
    "\n",
    "career_stats = playercareerstats.PlayerCareerStats(player_id=player_details['id']).get_data_frames()[0]\n",
    "\n",
    "seasons = career_stats['SEASON_ID']\n",
    "\n",
    "season_data = {}\n",
    "for s in seasons:\n",
    "    season_data[s] = playergamelog.PlayerGameLog(player_id=player_details['id'], season=s, season_type_all_star=SeasonType.regular).get_data_frames()[0]"
   ]
  },
  {
   "cell_type": "code",
   "execution_count": 5,
   "id": "52e8f671-74dd-4eb1-b8df-1853b5676493",
   "metadata": {},
   "outputs": [
    {
     "data": {
      "text/plain": [
       "'\\nFor each game, we want to extract the following information for training:\\n1. Opponent team defensive rating\\n2. Player team offensive rating\\n3. Player offensive rating\\n4. Player usage rate\\n5. Days since last game\\n6. Game number\\n7. Average ppg since start of season\\n'"
      ]
     },
     "execution_count": 5,
     "metadata": {},
     "output_type": "execute_result"
    }
   ],
   "source": [
    "\"\"\"\n",
    "For each game, we want to extract the following information for training:\n",
    "1. Opponent team defensive rating\n",
    "2. Player team offensive rating\n",
    "3. Player offensive rating\n",
    "4. Player usage rate\n",
    "5. Days since last game\n",
    "6. Game number\n",
    "\"\"\""
   ]
  },
  {
   "cell_type": "code",
   "execution_count": 12,
   "id": "16af7c2b-9860-4a0b-9e40-ffbe033e1a6a",
   "metadata": {},
   "outputs": [],
   "source": [
    "#Form training arrays\n",
    "X_currseason = []\n",
    "X_allseasons = []\n",
    "opp_def_rating_allseasons = []\n",
    "opp_def_rating_currseason = []\n",
    "team_off_rating_allseasons = []\n",
    "team_off_rating_currseason = []\n",
    "player_off_rating_allseasons = []\n",
    "player_off_rating_currseason = []\n",
    "player_usage_rate_allseasons = []\n",
    "player_usage_rate_currseason = []\n",
    "days_since_last_game_allseasons = []\n",
    "days_since_last_game_currseason = []\n",
    "game_numbers_allseasons = []\n",
    "game_numbers_currseason = []\n",
    "Y_regr_currseason = []\n",
    "Y_class_currseason = []\n",
    "Y_regr_allseasons = []\n",
    "Y_class_allseasons = []\n",
    "\n"
   ]
  },
  {
   "cell_type": "code",
   "execution_count": 13,
   "id": "131597e4-5f2b-4c77-8578-03d6cfa945a1",
   "metadata": {},
   "outputs": [],
   "source": [
    "\"\"\"\n",
    "Collect data. There's a different approach here. \n",
    "We are going to build two models, one predicting exact points (regression), one\n",
    "predicting purely over/under point threshold. Also, we are going to train on two \n",
    "different timeframes of data: player whole career and current season only.\n",
    "\"\"\"\n",
    "for season in season_data.keys():\n",
    "    currSeason = season_data[season]\n",
    "    for ind in currSeason.index:\n",
    "        #Label regressions\n",
    "        Y_regr_allseasons.append(float(currSeason['PTS'][ind]))\n",
    "        \n",
    "        #Get defensive rating\n",
    "        metrics = teamestimatedmetrics.TeamEstimatedMetrics(league_id=\"00\", season=season, season_type = SeasonType.regular).get_data_frames()[0]\n",
    "        opp_abbrev = currSeason['MATCHUP'][ind][-3:]\n",
    "\n",
    "\n",
    "        for i in teams.get_teams():\n",
    "            if i['abbreviation'] == opp_abbrev:\n",
    "                opp_team_id = i['id']\n",
    "                \n",
    "        opp_def_rating_allseasons.append(metrics.loc[metrics[\"TEAM_ID\"] == opp_team_id][\"E_DEF_RATING\"])\n",
    "\n",
    "        #Get team offensive rating\n",
    "        for i in teams.get_teams():\n",
    "            if i['abbreviation'] == currSeason[\"MATCHUP\"][ind][0:3]:\n",
    "                plr_team_id = i['id']\n",
    "\n",
    "        team_off_rating_allseasons.append(metrics.loc[metrics[\"TEAM_ID\"] == plr_team_id][\"E_OFF_RATING\"])\n",
    "        \n",
    "        #Get player offensive rating\n",
    "        player_metrics = playerestimatedmetrics.PlayerEstimatedMetrics(league_id=\"00\", season=season, season_type = SeasonType.regular).get_data_frames()[0]\n",
    "        player_id = player_details['id']\n",
    "\n",
    "        player_off_rating_allseasons.append(player_metrics.loc[player_metrics[\"PLAYER_ID\"] == player_id][\"E_OFF_RATING\"])\n",
    "\n",
    "        #Get player usage rate\n",
    "        player_usage_rate_allseasons.append(player_metrics.loc[player_metrics[\"PLAYER_ID\"] == player_id][\"E_USG_PCT\"])\n",
    "        \n",
    "        #Label classifications\n",
    "        if float(currSeason['PTS'][ind]) > float(point_threshold):\n",
    "            Y_class_allseasons.append(1)\n",
    "        else:\n",
    "            Y_class_allseasons.append(0)\n",
    "            \n",
    "for ind in season_data[\"2023-24\"].index:\n",
    "    #Label regressions\n",
    "    Y_regr_currseason.append(float(season_data[\"2023-24\"]['PTS'][ind]))\n",
    "    \n",
    "    #Get team defensive ratings\n",
    "    metrics = teamestimatedmetrics.TeamEstimatedMetrics(league_id=\"00\", season=\"2023-24\", season_type = SeasonType.regular).get_data_frames()[0]\n",
    "    opp_abbrev = season_data[\"2023-24\"][\"MATCHUP\"][ind][-3:]\n",
    "\n",
    "    for i in teams.get_teams():\n",
    "        if i['abbreviation'] == opp_abbrev:\n",
    "            opp_team_id = i['id']\n",
    "\n",
    "    opp_def_rating_currseason.append(metrics.loc[metrics[\"TEAM_ID\"] == opp_team_id][\"E_DEF_RATING\"])\n",
    "\n",
    "    #Get team offensive ratings\n",
    "    for i in teams.get_teams():\n",
    "        if i['abbreviation'] == currSeason[\"MATCHUP\"][ind][0:3]:\n",
    "            plr_team_id = i['id']\n",
    "\n",
    "    team_off_rating_currseason.append(metrics.loc[metrics[\"TEAM_ID\"] == plr_team_id][\"E_OFF_RATING\"])\n",
    "\n",
    "    #Get player offensive rating\n",
    "    player_metrics = playerestimatedmetrics.PlayerEstimatedMetrics(league_id=\"00\", season=\"2023-24\", season_type = SeasonType.regular).get_data_frames()[0]\n",
    "    player_id = player_details['id']\n",
    "\n",
    "    player_off_rating_currseason.append(player_metrics.loc[player_metrics[\"PLAYER_ID\"] == player_id][\"E_OFF_RATING\"])\n",
    "\n",
    "    #Get player usage rate\n",
    "    player_usage_rate_currseason.append(player_metrics.loc[player_metrics[\"PLAYER_ID\"] == player_id][\"E_USG_PCT\"])\n",
    "    \n",
    "    #Label classifications\n",
    "    if float(season_data[\"2023-24\"]['PTS'][ind]) > float(point_threshold):\n",
    "        Y_class_currseason.append(1)\n",
    "    else:\n",
    "        Y_class_currseason.append(0)\n",
    "    "
   ]
  },
  {
   "cell_type": "code",
   "execution_count": 19,
   "id": "a087b5d0-e1c9-4a83-9c09-8a30ef320600",
   "metadata": {},
   "outputs": [],
   "source": [
    "months = {\n",
    "    \"JAN\": 1,\n",
    "    \"FEB\": 2,\n",
    "    \"MAR\": 3,\n",
    "    \"APR\": 4,\n",
    "    \"MAY\": 5,\n",
    "    \"JUN\": 6,\n",
    "    \"JUL\": 7,\n",
    "    \"AUG\": 8,\n",
    "    \"OCT\": 10,\n",
    "    \"NOV\": 11,\n",
    "    \"DEC\": 12\n",
    "}\n",
    "def convert_human_date(d):\n",
    "    month = months[d[0:3]]\n",
    "    day = int(d[4:6])\n",
    "    year = int(d[8:])\n",
    "\n",
    "    return date(year, month, day)"
   ]
  },
  {
   "cell_type": "code",
   "execution_count": 20,
   "id": "4da88ccd-8b1b-4f43-aa83-92f8b9daf0d1",
   "metadata": {},
   "outputs": [],
   "source": [
    "def distance_between_dates(d1, d2):\n",
    "    return int((d2 - d1).days)"
   ]
  },
  {
   "cell_type": "code",
   "execution_count": 21,
   "id": "303c32d6-ce20-4052-b268-1318bf6b45fd",
   "metadata": {},
   "outputs": [],
   "source": [
    "#default days of rest set for the first game of the season:\n",
    "first_game_rest = 7"
   ]
  },
  {
   "cell_type": "code",
   "execution_count": 23,
   "id": "f7745126-a571-429f-8389-060bb25bb4ef",
   "metadata": {},
   "outputs": [],
   "source": [
    "#Compute days since last game\n",
    "for season in season_data.keys():\n",
    "    currSeason = season_data[season]\n",
    "    for ind in currSeason.index:\n",
    "        if (ind + 1) == len(currSeason.index):\n",
    "            days_since_last_game_allseasons.append(first_game_rest)\n",
    "        else:\n",
    "            currGameDate = convert_human_date(str(currSeason[\"GAME_DATE\"][ind]))\n",
    "            lastGameDate = convert_human_date(str(currSeason[\"GAME_DATE\"][ind+1]))\n",
    "            days_since_last_game_allseasons.append(distance_between_dates(lastGameDate, currGameDate))\n",
    "for ind in season_data[\"2023-24\"].index:\n",
    "    if (ind + 1) == len(season_data[\"2023-24\"].index):\n",
    "        days_since_last_game_currseason.append(first_game_rest)\n",
    "    else:\n",
    "        currGameDate = convert_human_date(str(season_data['2023-24'][\"GAME_DATE\"][ind]))\n",
    "        lastGameDate = convert_human_date(str(season_data['2023-24'][\"GAME_DATE\"][ind+1]))\n",
    "        days_since_last_game_currseason.append(distance_between_dates(lastGameDate, currGameDate))"
   ]
  },
  {
   "cell_type": "code",
   "execution_count": 24,
   "id": "36cd9905-23b8-4f3a-80ad-6aabdcd825cd",
   "metadata": {},
   "outputs": [],
   "source": [
    "#Get the game number, in terms of the number of games that player has played\n",
    "for season in season_data.keys():\n",
    "    for ind in season_data[season].index:\n",
    "        game_numbers_allseasons.append(len(season_data[season].index) - ind)\n",
    "\n",
    "for ind in season_data[\"2023-24\"].index:\n",
    "    game_numbers_currseason.append(len(season_data[\"2023-24\"].index) - ind)\n",
    "        "
   ]
  },
  {
   "cell_type": "code",
   "execution_count": 25,
   "id": "82f05ed0-eb50-4540-a60e-d8c3dd524446",
   "metadata": {},
   "outputs": [],
   "source": [
    "#default average ppg since start of season\n",
    "default_first_game_ppg = 0.0"
   ]
  },
  {
   "cell_type": "code",
   "execution_count": 34,
   "id": "12f1ae13-9897-4a55-a7c2-55b08df4f99c",
   "metadata": {},
   "outputs": [
    {
     "name": "stderr",
     "output_type": "stream",
     "text": [
      "/var/folders/wt/9_6pdt8n2kz5f1cv6bqysq440000gn/T/ipykernel_2367/4020995574.py:5: FutureWarning: Calling float on a single element Series is deprecated and will raise a TypeError in the future. Use float(ser.iloc[0]) instead\n",
      "  tpl = (float(opp_def_rating_allseasons[i]), float(team_off_rating_allseasons[i]), float(player_off_rating_allseasons[i]), float(player_usage_rate_allseasons[i]), float(days_since_last_game_allseasons[i]), float(game_numbers_allseasons[i]))\n",
      "/var/folders/wt/9_6pdt8n2kz5f1cv6bqysq440000gn/T/ipykernel_2367/4020995574.py:9: FutureWarning: Calling float on a single element Series is deprecated and will raise a TypeError in the future. Use float(ser.iloc[0]) instead\n",
      "  tpl = (float(opp_def_rating_currseason[i]), float(team_off_rating_currseason[i]), float(player_off_rating_currseason[i]), float(player_usage_rate_currseason[i]), float(days_since_last_game_currseason[i]), float(game_numbers_currseason[i]))\n"
     ]
    }
   ],
   "source": [
    "#Zip together all the training input data\n",
    "X_allseasons = []\n",
    "X_currseason = []\n",
    "for i in range(len(game_numbers_allseasons)):\n",
    "    tpl = (float(opp_def_rating_allseasons[i]), float(team_off_rating_allseasons[i]), float(player_off_rating_allseasons[i]), float(player_usage_rate_allseasons[i]), float(days_since_last_game_allseasons[i]), float(game_numbers_allseasons[i]))\n",
    "    X_allseasons.append(tpl)\n",
    "\n",
    "for i in range(len(game_numbers_currseason)):\n",
    "    tpl = (float(opp_def_rating_currseason[i]), float(team_off_rating_currseason[i]), float(player_off_rating_currseason[i]), float(player_usage_rate_currseason[i]), float(days_since_last_game_currseason[i]), float(game_numbers_currseason[i]))\n",
    "    X_currseason.append(tpl)\n",
    "    "
   ]
  },
  {
   "cell_type": "code",
   "execution_count": 36,
   "id": "5e6e8d10-d02d-461b-ad0f-50dd3b0cb561",
   "metadata": {},
   "outputs": [
    {
     "name": "stdout",
     "output_type": "stream",
     "text": [
      "[9.19578377e-01 5.21248442e-02 1.43829547e-02 1.14980603e-02\n",
      " 2.41571099e-03 5.26953523e-08]\n"
     ]
    }
   ],
   "source": [
    "#Run PCA to determine which predictor variables to include, for all seasons\n",
    "pca = PCA(n_components = 6)\n",
    "pca.fit(X_allseasons)\n",
    "print(pca.explained_variance_ratio_)"
   ]
  },
  {
   "cell_type": "code",
   "execution_count": 37,
   "id": "61b4f6ae-86a7-4923-b00c-c3e69003b629",
   "metadata": {},
   "outputs": [
    {
     "name": "stderr",
     "output_type": "stream",
     "text": [
      "/var/folders/wt/9_6pdt8n2kz5f1cv6bqysq440000gn/T/ipykernel_2367/4277634942.py:5: FutureWarning: Calling float on a single element Series is deprecated and will raise a TypeError in the future. Use float(ser.iloc[0]) instead\n",
      "  tpl = (float(opp_def_rating_allseasons[i]), float(team_off_rating_allseasons[i]), float(player_off_rating_allseasons[i]), float(player_usage_rate_allseasons[i]))\n",
      "/var/folders/wt/9_6pdt8n2kz5f1cv6bqysq440000gn/T/ipykernel_2367/4277634942.py:9: FutureWarning: Calling float on a single element Series is deprecated and will raise a TypeError in the future. Use float(ser.iloc[0]) instead\n",
      "  tpl = (float(opp_def_rating_currseason[i]), float(team_off_rating_currseason[i]), float(player_off_rating_currseason[i]), float(player_usage_rate_currseason[i]))\n"
     ]
    }
   ],
   "source": [
    "#So then let's reform the data, without game number and days since last game from the data\n",
    "X_allseasons = []\n",
    "X_currseason = []\n",
    "for i in range(len(game_numbers_allseasons)):\n",
    "    tpl = (float(opp_def_rating_allseasons[i]), float(team_off_rating_allseasons[i]), float(player_off_rating_allseasons[i]), float(player_usage_rate_allseasons[i]))\n",
    "    X_allseasons.append(tpl)\n",
    "\n",
    "for i in range(len(game_numbers_currseason)):\n",
    "    tpl = (float(opp_def_rating_currseason[i]), float(team_off_rating_currseason[i]), float(player_off_rating_currseason[i]), float(player_usage_rate_currseason[i]))\n",
    "    X_currseason.append(tpl)\n",
    "    "
   ]
  },
  {
   "cell_type": "code",
   "execution_count": 40,
   "id": "37353f62-8979-4aa1-a785-37130cba911f",
   "metadata": {},
   "outputs": [],
   "source": [
    "#Now, let's start preprocessing the data\n",
    "Y_regr_allseasons = pd.DataFrame(Y_regr_allseasons)\n",
    "Y_regr_currseason = pd.DataFrame(Y_regr_currseason)\n",
    "Y_class_allseasons = pd.DataFrame(Y_class_allseasons)\n",
    "Y_class_currseason = pd.DataFrame(Y_class_currseason)\n",
    "\n",
    "X_allseasons = pd.DataFrame(X_allseasons)\n",
    "X_currseason = pd.DataFrame(X_currseason)"
   ]
  },
  {
   "cell_type": "code",
   "execution_count": 47,
   "id": "e9fc3dab-b64d-4a3d-919d-011031d58c54",
   "metadata": {},
   "outputs": [],
   "source": [
    "X_regr_allseasons_train, X_regr_allseasons_test, Y_regr_allseasons_train, Y_regr_allseasons_test = train_test_split(X_allseasons, Y_regr_allseasons, test_size=.25)\n",
    "X_class_allseasons_train, X_class_allseasons_test, Y_class_allseasons_train, Y_class_allseasons_test = train_test_split(X_allseasons, Y_class_allseasons, test_size=.25)\n",
    "X_regr_currseason_train, X_regr_currseason_test, Y_regr_currseason_train, Y_regr_currseason_test = train_test_split(X_currseason, Y_regr_currseason, test_size=.25)\n",
    "X_class_currseason_train, X_class_currseason_test, Y_class_currseason_train, Y_class_currseason_test = train_test_split(X_currseason, Y_class_currseason, test_size=.25)"
   ]
  },
  {
   "cell_type": "code",
   "execution_count": null,
   "id": "00a21334-29b8-4696-8138-1b7fd8f79eed",
   "metadata": {},
   "outputs": [],
   "source": [
    "#Let's start with the classification models. We'll check with 5-fold cross validation"
   ]
  },
  {
   "cell_type": "code",
   "execution_count": 60,
   "id": "e694e842-53f3-4efa-82d8-0982800a19e1",
   "metadata": {},
   "outputs": [
    {
     "name": "stdout",
     "output_type": "stream",
     "text": [
      "0.9161290322580644\n"
     ]
    }
   ],
   "source": [
    "#all seasons SVC. Has a great cross-validation score\n",
    "svc = SVC()\n",
    "scores = cross_val_score(svc, X_class_allseasons_train, Y_class_allseasons_train.values.ravel(), cv=5)\n",
    "print(np.mean(scores))"
   ]
  },
  {
   "cell_type": "code",
   "execution_count": 56,
   "id": "b86ed9f7-b2fa-4db5-bfaf-8533d8bf43fd",
   "metadata": {},
   "outputs": [
    {
     "name": "stdout",
     "output_type": "stream",
     "text": [
      "[0.66666667 0.66666667 0.5        0.5        0.5       ]\n"
     ]
    }
   ],
   "source": [
    "#current season SVC. Not great. \n",
    "svc = SVC()\n",
    "scores = cross_val_score(svc, X_class_currseason_train, Y_class_currseason_train.values.ravel(), cv=5)\n",
    "print(scores)"
   ]
  },
  {
   "cell_type": "code",
   "execution_count": 59,
   "id": "7d3d8a7c-919f-4df6-ade1-d8e33658d0b5",
   "metadata": {},
   "outputs": [
    {
     "name": "stdout",
     "output_type": "stream",
     "text": [
      "0.9161290322580644\n"
     ]
    }
   ],
   "source": [
    "#All seasons logistic classifier. Pretty good!\n",
    "log = LogisticRegression()\n",
    "scores = cross_val_score(log, X_class_allseasons_train, Y_class_allseasons_train.values.ravel(), cv=5)\n",
    "print(np.mean(scores))"
   ]
  },
  {
   "cell_type": "code",
   "execution_count": 58,
   "id": "cd327a8d-44cd-487c-85cd-0a6abd216d54",
   "metadata": {},
   "outputs": [
    {
     "name": "stdout",
     "output_type": "stream",
     "text": [
      "[0.33333333 0.33333333 0.         0.5        0.5       ]\n"
     ]
    }
   ],
   "source": [
    "#Current season logistic classifier. Bad\n",
    "log = LogisticRegression()\n",
    "scores = cross_val_score(log, X_class_currseason_train, Y_class_currseason_train.values.ravel(), cv=5)\n",
    "print(scores)"
   ]
  },
  {
   "cell_type": "code",
   "execution_count": null,
   "id": "7584c636-06cb-4109-9f56-f7ce06cb867b",
   "metadata": {},
   "outputs": [],
   "source": [
    "#What's happening is a lack of data problem. There have been fewer than twenty games this season for any given team. So let's use all season data now. "
   ]
  },
  {
   "cell_type": "code",
   "execution_count": 61,
   "id": "ed3eabaf-3dcf-4c8c-a7d5-57978f4d45f4",
   "metadata": {},
   "outputs": [
    {
     "name": "stdout",
     "output_type": "stream",
     "text": [
      "0.8709677419354838\n"
     ]
    }
   ],
   "source": [
    "#All season random forest classifier. Not as good as SVC or logistic classifier. \n",
    "rcf = RandomForestClassifier()\n",
    "scores = cross_val_score(rcf, X_class_allseasons_train, Y_class_allseasons_train.values.ravel(), cv=5)\n",
    "print(np.mean(scores))"
   ]
  },
  {
   "cell_type": "code",
   "execution_count": 62,
   "id": "e26ab9f6-7850-480d-8042-54bf598ae4b8",
   "metadata": {},
   "outputs": [
    {
     "name": "stdout",
     "output_type": "stream",
     "text": [
      "0.8709677419354838\n"
     ]
    }
   ],
   "source": [
    "#Gradient boosting. Not as great as SVC or logistic classifier.\n",
    "gbc = GradientBoostingClassifier()\n",
    "scores = cross_val_score(gbc, X_class_allseasons_train, Y_class_allseasons_train.values.ravel(), cv=5)\n",
    "print(np.mean(scores))"
   ]
  },
  {
   "cell_type": "code",
   "execution_count": 65,
   "id": "d7eae474-1809-4fa2-aa7d-dcebbe5392ce",
   "metadata": {},
   "outputs": [
    {
     "name": "stdout",
     "output_type": "stream",
     "text": [
      "0.9161290322580644\n"
     ]
    }
   ],
   "source": [
    "#Ridge classifier. This is pretty good too. \n",
    "rc = RidgeClassifier()\n",
    "scores = cross_val_score(rc, X_class_allseasons_train, Y_class_allseasons_train.values.ravel(), cv=5)\n",
    "print(np.mean(scores))"
   ]
  },
  {
   "cell_type": "code",
   "execution_count": null,
   "id": "f587dac3-39a5-4b2b-90bd-c1984138ef0b",
   "metadata": {},
   "outputs": [],
   "source": [
    "#Now, let's try regression on allseasons."
   ]
  },
  {
   "cell_type": "code",
   "execution_count": null,
   "id": "8e8049cc-efa8-4d2e-acc1-d95ee2b45ecc",
   "metadata": {},
   "outputs": [],
   "source": []
  }
 ],
 "metadata": {
  "kernelspec": {
   "display_name": "Python 3 (ipykernel)",
   "language": "python",
   "name": "python3"
  },
  "language_info": {
   "codemirror_mode": {
    "name": "ipython",
    "version": 3
   },
   "file_extension": ".py",
   "mimetype": "text/x-python",
   "name": "python",
   "nbconvert_exporter": "python",
   "pygments_lexer": "ipython3",
   "version": "3.11.4"
  }
 },
 "nbformat": 4,
 "nbformat_minor": 5
}
