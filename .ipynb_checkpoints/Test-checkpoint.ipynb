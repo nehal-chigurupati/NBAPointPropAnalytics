{
 "cells": [
  {
   "cell_type": "code",
   "execution_count": null,
   "id": "ea5e9d7b-0d7d-4d5a-8313-8054e132f4bf",
   "metadata": {},
   "outputs": [],
   "source": [
    "from nba_api.stats.static import teams"
   ]
  },
  {
   "cell_type": "code",
   "execution_count": null,
   "id": "76b4f0c5-9480-4203-a78a-f8400195e67e",
   "metadata": {},
   "outputs": [],
   "source": [
    "nba_teams = teams.get_teams()"
   ]
  },
  {
   "cell_type": "code",
   "execution_count": null,
   "id": "c8dc306d-9069-4f1f-9f9c-e111b6ab9bbf",
   "metadata": {},
   "outputs": [],
   "source": [
    "cavs = [team for team in nba_teams if team['abbreviation'] == 'CLE']"
   ]
  },
  {
   "cell_type": "code",
   "execution_count": null,
   "id": "f53d9b23-b327-451d-9d89-df95ad45f7a4",
   "metadata": {},
   "outputs": [],
   "source": [
    "cavs = cavs[0]"
   ]
  },
  {
   "cell_type": "code",
   "execution_count": null,
   "id": "6deb2872-4b83-4d27-921f-e3a76d6c2625",
   "metadata": {},
   "outputs": [],
   "source": [
    "from nba_api.stats.endpoints import leaguegamefinder"
   ]
  },
  {
   "cell_type": "code",
   "execution_count": null,
   "id": "25205f03-3716-45b2-b888-d9dee6c286b9",
   "metadata": {},
   "outputs": [],
   "source": [
    "gamefinder = leaguegamefinder.LeagueGameFinder(team_id_nullable=cavs['id'])"
   ]
  },
  {
   "cell_type": "code",
   "execution_count": null,
   "id": "ec5dd424-12ab-49a9-ae56-cefe1f54d766",
   "metadata": {},
   "outputs": [],
   "source": [
    "gamefinder"
   ]
  },
  {
   "cell_type": "code",
   "execution_count": null,
   "id": "bfaf05ed-03fb-4026-8da0-1055539fb1d0",
   "metadata": {},
   "outputs": [],
   "source": [
    "games_dict = gamefinder.get_normalized_dict()['LeagueGameFinderResults']"
   ]
  },
  {
   "cell_type": "code",
   "execution_count": null,
   "id": "704dd19b-ecae-4afe-a9f6-a68d49747d1d",
   "metadata": {},
   "outputs": [],
   "source": [
    "lastGame = games_dict[0]"
   ]
  },
  {
   "cell_type": "code",
   "execution_count": null,
   "id": "c15e445b-fdb1-401b-a780-36035ecdbc9c",
   "metadata": {},
   "outputs": [],
   "source": [
    "from nba_api.stats.endpoints import playbyplay"
   ]
  },
  {
   "cell_type": "code",
   "execution_count": null,
   "id": "003232e5-95a2-4238-b686-b9194d5d8770",
   "metadata": {},
   "outputs": [],
   "source": [
    "pbp = playbyplay.PlayByPlay(lastGame['GAME_ID']).get_data_frames()[0]"
   ]
  },
  {
   "cell_type": "code",
   "execution_count": null,
   "id": "fc7f35e7-990d-4d0d-8d2b-1afd712ed230",
   "metadata": {},
   "outputs": [],
   "source": [
    "pbp.head()"
   ]
  },
  {
   "cell_type": "code",
   "execution_count": null,
   "id": "8cf5709c-39fd-40c8-b6a3-1821f2e98ddc",
   "metadata": {},
   "outputs": [],
   "source": [
    "pbp.loc[pbp['EVENTMSGTYPE'] == 5].head()"
   ]
  },
  {
   "cell_type": "code",
   "execution_count": null,
   "id": "b9c6f8c9-0f56-450e-87bf-32766fe4c30b",
   "metadata": {},
   "outputs": [],
   "source": [
    "eventMsgDescriptionToCode = {\n",
    "    'FIELD_GOAL_MADE':1,\n",
    "    'FIELD_GOAL_MISSED':2,\n",
    "    'FREE_THROW_ATTEMPT':3,\n",
    "    'REBOUND':4,\n",
    "    'TURNOVER':5,\n",
    "    'FOUL':6,\n",
    "    'VIOLATION':7,\n",
    "    'SUBSTITUTION':8,\n",
    "    'TIMEOUT':9,\n",
    "    'JUMP_BALL':10,\n",
    "    'EJECTION':11,\n",
    "    'PERIOD_BEGIN':12,\n",
    "    'PERIOD_END':13,\n",
    "    'INSTANT_REPLAY':18\n",
    "}\n",
    "\n",
    "codeToEventMsgDescription = dict(zip(eventMsgDescriptionToCode.values(), eventMsgDescriptionToCode.keys()))"
   ]
  },
  {
   "cell_type": "code",
   "execution_count": 35,
   "id": "a7216f64-1d48-47e8-acf7-848372c081c1",
   "metadata": {},
   "outputs": [],
   "source": [
    "class DescribeActions:\n",
    "    def team_of_action(row):\n",
    "        ret = \"\"\n",
    "        if row['HOMEDESCRIPTION'] != None:\n",
    "            ret = ret + 'Home,'\n",
    "        if row['NEUTRALDESCRIPTION'] != None:\n",
    "            ret = ret + \"Neutral,\"\n",
    "        if row['VISITORDESCRIPTION'] != None:\n",
    "            ret = ret + \"Visitor,\"\n",
    "        return ret\n",
    "    def get_action_type(row):\n",
    "        eventMsgDescriptionToCode = {\n",
    "            'FIELD_GOAL_MADE':1,\n",
    "            'FIELD_GOAL_MISSED':2,\n",
    "            'FREE_THROW_ATTEMPT':3,\n",
    "            'REBOUND':4,\n",
    "            'TURNOVER':5,\n",
    "            'FOUL':6,\n",
    "            'VIOLATION':7,\n",
    "            'SUBSTITUTION':8,\n",
    "            'TIMEOUT':9,\n",
    "            'JUMP_BALL':10,\n",
    "            'EJECTION':11,\n",
    "            'PERIOD_BEGIN':12,\n",
    "            'PERIOD_END':13,\n",
    "            'INSTANT_REPLAY':18\n",
    "        }\n",
    "        codeToEventMsgDescription = dict(zip(eventMsgDescriptionToCode.values(), eventMsgDescriptionToCode.keys()))\n",
    "\n",
    "        return codeToEventMsgDescription[row['EVENTMSGTYPE']]\n",
    "        \n",
    "    def parse_turnover(row):\n",
    "        home_description = str(row['HOMEDESCRIPTION'])\n",
    "        if \"Turnover\" in row['HOMEDESCRIPTION']:\n",
    "            return \"HOME_TURNOVER\"\n",
    "        elif \"Turnover\" in row['VISITORDESCRIPTION']:\n",
    "            return \"VISITOR_TURNOVER\"\n",
    "\n",
    "    def parse(row):\n",
    "        if DescribeActions.get_action_type(row) == \"TURNOVER\":\n",
    "            return DescribeActions.parse_turnover(row)\n",
    "        else:\n",
    "            return DescribeActions.team_of_action(row)"
   ]
  },
  {
   "cell_type": "code",
   "execution_count": 33,
   "id": "0acfece1-844f-4b88-955d-f101d4681713",
   "metadata": {},
   "outputs": [
    {
     "name": "stdout",
     "output_type": "stream",
     "text": [
      "Index: 0, Action: PERIOD_BEGIN, Team: Neutral,\n",
      "Index: 1, Action: JUMP_BALL, Team: Home,\n",
      "Index: 2, Action: FIELD_GOAL_MISSED, Team: Home,\n",
      "Index: 3, Action: REBOUND, Team: Home,\n",
      "Index: 4, Action: FIELD_GOAL_MADE, Team: Home,\n",
      "Index: 5, Action: FIELD_GOAL_MISSED, Team: Visitor,\n",
      "Index: 6, Action: REBOUND, Team: Home,\n",
      "Index: 7, Action: FIELD_GOAL_MADE, Team: Home,\n",
      "Index: 8, Action: FIELD_GOAL_MISSED, Team: Visitor,\n",
      "Index: 9, Action: REBOUND, Team: Home,\n",
      "Index: 10, Action: FOUL, Team: Visitor,\n",
      "Index: 11, Action: FREE_THROW_ATTEMPT, Team: Home,\n",
      "Index: 12, Action: FREE_THROW_ATTEMPT, Team: Home,\n",
      "Index: 13, Action: REBOUND, Team: Visitor,\n",
      "Index: 14, Action: FIELD_GOAL_MADE, Team: Visitor,\n",
      "Index: 15, Action: FIELD_GOAL_MADE, Team: Home,\n",
      "Index: 16, Action: FOUL, Team: Home,\n",
      "Index: 17, Action: FIELD_GOAL_MISSED, Team: Visitor,\n",
      "Index: 18, Action: REBOUND, Team: Visitor,\n",
      "Index: 19, Action: FIELD_GOAL_MADE, Team: Visitor,\n",
      "Index: 20, Action: TURNOVER, Team: HOME_TURNOVER\n",
      "Index: 21, Action: TURNOVER, Team: VISITOR_TURNOVER\n",
      "Index: 22, Action: FIELD_GOAL_MISSED, Team: Home,\n",
      "Index: 23, Action: REBOUND, Team: Home,\n",
      "Index: 24, Action: TURNOVER, Team: HOME_TURNOVER\n",
      "Index: 25, Action: FIELD_GOAL_MISSED, Team: Visitor,\n",
      "Index: 26, Action: REBOUND, Team: Visitor,\n",
      "Index: 27, Action: FIELD_GOAL_MISSED, Team: Visitor,\n",
      "Index: 28, Action: REBOUND, Team: Home,\n",
      "Index: 29, Action: FOUL, Team: Visitor,\n",
      "Index: 30, Action: FREE_THROW_ATTEMPT, Team: Home,\n",
      "Index: 31, Action: FREE_THROW_ATTEMPT, Team: Home,\n",
      "Index: 32, Action: FOUL, Team: Home,\n",
      "Index: 33, Action: FREE_THROW_ATTEMPT, Team: Visitor,\n",
      "Index: 34, Action: FREE_THROW_ATTEMPT, Team: Visitor,\n",
      "Index: 35, Action: FIELD_GOAL_MADE, Team: Home,\n",
      "Index: 36, Action: FIELD_GOAL_MADE, Team: Visitor,\n",
      "Index: 37, Action: FIELD_GOAL_MISSED, Team: Home,\n",
      "Index: 38, Action: REBOUND, Team: Visitor,\n",
      "Index: 39, Action: FIELD_GOAL_MISSED, Team: Visitor,\n",
      "Index: 40, Action: REBOUND, Team: Visitor,\n",
      "Index: 41, Action: FIELD_GOAL_MADE, Team: Visitor,\n",
      "Index: 42, Action: FIELD_GOAL_MADE, Team: Home,\n",
      "Index: 43, Action: FIELD_GOAL_MISSED, Team: Visitor,\n",
      "Index: 44, Action: REBOUND, Team: Home,\n",
      "Index: 45, Action: FIELD_GOAL_MISSED, Team: Home,\n",
      "Index: 46, Action: REBOUND, Team: Visitor,\n",
      "Index: 47, Action: TIMEOUT, Team: Home,\n",
      "Index: 48, Action: SUBSTITUTION, Team: Home,\n",
      "Index: 49, Action: SUBSTITUTION, Team: Visitor,\n",
      "Index: 50, Action: SUBSTITUTION, Team: Visitor,\n",
      "Index: 51, Action: FIELD_GOAL_MISSED, Team: Visitor,\n",
      "Index: 52, Action: REBOUND, Team: Visitor,\n",
      "Index: 53, Action: FIELD_GOAL_MADE, Team: Visitor,\n",
      "Index: 54, Action: FIELD_GOAL_MISSED, Team: Home,\n",
      "Index: 55, Action: REBOUND, Team: Visitor,\n",
      "Index: 56, Action: SUBSTITUTION, Team: Home,\n",
      "Index: 57, Action: SUBSTITUTION, Team: Home,\n",
      "Index: 58, Action: FIELD_GOAL_MADE, Team: Visitor,\n",
      "Index: 59, Action: FIELD_GOAL_MADE, Team: Home,\n",
      "Index: 60, Action: FIELD_GOAL_MADE, Team: Visitor,\n",
      "Index: 61, Action: FIELD_GOAL_MADE, Team: Home,\n",
      "Index: 62, Action: TURNOVER, Team: VISITOR_TURNOVER\n",
      "Index: 63, Action: FOUL, Team: Home,\n",
      "Index: 64, Action: TURNOVER, Team: HOME_TURNOVER\n",
      "Index: 65, Action: SUBSTITUTION, Team: Visitor,\n",
      "Index: 66, Action: FIELD_GOAL_MISSED, Team: Visitor,\n",
      "Index: 67, Action: REBOUND, Team: Home,\n",
      "Index: 68, Action: FIELD_GOAL_MADE, Team: Home,\n",
      "Index: 69, Action: FIELD_GOAL_MISSED, Team: Visitor,\n",
      "Index: 70, Action: REBOUND, Team: Home,\n",
      "Index: 71, Action: TURNOVER, Team: HOME_TURNOVER\n",
      "Index: 72, Action: FIELD_GOAL_MISSED, Team: Visitor,\n",
      "Index: 73, Action: REBOUND, Team: Home,\n",
      "Index: 74, Action: FIELD_GOAL_MISSED, Team: Home,\n",
      "Index: 75, Action: REBOUND, Team: Home,\n",
      "Index: 76, Action: TURNOVER, Team: HOME_TURNOVER\n",
      "Index: 77, Action: SUBSTITUTION, Team: Visitor,\n",
      "Index: 78, Action: SUBSTITUTION, Team: Visitor,\n",
      "Index: 79, Action: FIELD_GOAL_MADE, Team: Visitor,\n",
      "Index: 80, Action: FIELD_GOAL_MADE, Team: Home,\n",
      "Index: 81, Action: FIELD_GOAL_MISSED, Team: Visitor,\n",
      "Index: 82, Action: REBOUND, Team: Home,\n",
      "Index: 83, Action: TIMEOUT, Team: Visitor,\n",
      "Index: 84, Action: SUBSTITUTION, Team: Home,\n",
      "Index: 85, Action: SUBSTITUTION, Team: Home,\n",
      "Index: 86, Action: FIELD_GOAL_MADE, Team: Home,\n",
      "Index: 87, Action: FIELD_GOAL_MISSED, Team: Visitor,\n",
      "Index: 88, Action: REBOUND, Team: Visitor,\n",
      "Index: 89, Action: FIELD_GOAL_MISSED, Team: Visitor,\n",
      "Index: 90, Action: REBOUND, Team: Home,\n",
      "Index: 91, Action: FIELD_GOAL_MADE, Team: Home,\n",
      "Index: 92, Action: FIELD_GOAL_MADE, Team: Visitor,\n",
      "Index: 93, Action: FIELD_GOAL_MISSED, Team: Home,\n",
      "Index: 94, Action: REBOUND, Team: Visitor,\n",
      "Index: 95, Action: FIELD_GOAL_MISSED, Team: Visitor,\n",
      "Index: 96, Action: REBOUND, Team: Home,\n",
      "Index: 97, Action: FIELD_GOAL_MADE, Team: Home,\n"
     ]
    },
    {
     "ename": "TypeError",
     "evalue": "can only concatenate str (not \"NoneType\") to str",
     "output_type": "error",
     "traceback": [
      "\u001b[0;31m---------------------------------------------------------------------------\u001b[0m",
      "\u001b[0;31mTypeError\u001b[0m                                 Traceback (most recent call last)",
      "Cell \u001b[0;32mIn[33], line 2\u001b[0m\n\u001b[1;32m      1\u001b[0m \u001b[38;5;28;01mfor\u001b[39;00m index, row \u001b[38;5;129;01min\u001b[39;00m pbp\u001b[38;5;241m.\u001b[39miterrows():\n\u001b[0;32m----> 2\u001b[0m     \u001b[38;5;28mprint\u001b[39m(\u001b[38;5;124;43m\"\u001b[39;49m\u001b[38;5;124;43mIndex: \u001b[39;49m\u001b[38;5;124;43m\"\u001b[39;49m\u001b[43m \u001b[49m\u001b[38;5;241;43m+\u001b[39;49m\u001b[43m \u001b[49m\u001b[38;5;28;43mstr\u001b[39;49m\u001b[43m(\u001b[49m\u001b[43mindex\u001b[49m\u001b[43m)\u001b[49m\u001b[43m \u001b[49m\u001b[38;5;241;43m+\u001b[39;49m\u001b[43m \u001b[49m\u001b[38;5;124;43m\"\u001b[39;49m\u001b[38;5;124;43m, Action: \u001b[39;49m\u001b[38;5;124;43m\"\u001b[39;49m\u001b[43m \u001b[49m\u001b[38;5;241;43m+\u001b[39;49m\u001b[43m \u001b[49m\u001b[38;5;28;43mstr\u001b[39;49m\u001b[43m(\u001b[49m\u001b[43mcodeToEventMsgDescription\u001b[49m\u001b[43m[\u001b[49m\u001b[43mrow\u001b[49m\u001b[43m[\u001b[49m\u001b[38;5;124;43m'\u001b[39;49m\u001b[38;5;124;43mEVENTMSGTYPE\u001b[39;49m\u001b[38;5;124;43m'\u001b[39;49m\u001b[43m]\u001b[49m\u001b[43m]\u001b[49m\u001b[43m)\u001b[49m\u001b[43m \u001b[49m\u001b[38;5;241;43m+\u001b[39;49m\u001b[43m \u001b[49m\u001b[38;5;124;43m\"\u001b[39;49m\u001b[38;5;124;43m, Team: \u001b[39;49m\u001b[38;5;124;43m\"\u001b[39;49m\u001b[43m \u001b[49m\u001b[38;5;241;43m+\u001b[39;49m\u001b[43m \u001b[49m\u001b[43mDescribeActions\u001b[49m\u001b[38;5;241;43m.\u001b[39;49m\u001b[43mparse\u001b[49m\u001b[43m(\u001b[49m\u001b[43mrow\u001b[49m\u001b[43m)\u001b[49m)\n",
      "\u001b[0;31mTypeError\u001b[0m: can only concatenate str (not \"NoneType\") to str"
     ]
    }
   ],
   "source": [
    "for index, row in pbp.iterrows():\n",
    "    print(\"Index: \" + str(index) + \", Action: \" + str(codeToEventMsgDescription[row['EVENTMSGTYPE']]) + \", Team: \" + DescribeActions.parse(row))"
   ]
  },
  {
   "cell_type": "code",
   "execution_count": 36,
   "id": "2ec632e7-cf6c-4b65-80e7-a715a80c2f37",
   "metadata": {},
   "outputs": [
    {
     "ename": "ValueError",
     "evalue": "The truth value of a Series is ambiguous. Use a.empty, a.bool(), a.item(), a.any() or a.all().",
     "output_type": "error",
     "traceback": [
      "\u001b[0;31m---------------------------------------------------------------------------\u001b[0m",
      "\u001b[0;31mValueError\u001b[0m                                Traceback (most recent call last)",
      "\u001b[0;32m/var/folders/wt/9_6pdt8n2kz5f1cv6bqysq440000gn/T/ipykernel_10199/3066551624.py\u001b[0m in \u001b[0;36m?\u001b[0;34m()\u001b[0m\n\u001b[0;32m----> 1\u001b[0;31m \u001b[0mprint\u001b[0m\u001b[0;34m(\u001b[0m\u001b[0mDescribeActions\u001b[0m\u001b[0;34m.\u001b[0m\u001b[0mparse_turnover\u001b[0m\u001b[0;34m(\u001b[0m\u001b[0mpbp\u001b[0m\u001b[0;34m.\u001b[0m\u001b[0miloc\u001b[0m\u001b[0;34m[\u001b[0m\u001b[0;34m[\u001b[0m\u001b[0;36m98\u001b[0m\u001b[0;34m]\u001b[0m\u001b[0;34m]\u001b[0m\u001b[0;34m)\u001b[0m\u001b[0;34m)\u001b[0m\u001b[0;34m\u001b[0m\u001b[0;34m\u001b[0m\u001b[0m\n\u001b[0m",
      "\u001b[0;32m/var/folders/wt/9_6pdt8n2kz5f1cv6bqysq440000gn/T/ipykernel_10199/3045264729.py\u001b[0m in \u001b[0;36m?\u001b[0;34m(row)\u001b[0m\n\u001b[1;32m     32\u001b[0m     \u001b[0;32mdef\u001b[0m \u001b[0mparse_turnover\u001b[0m\u001b[0;34m(\u001b[0m\u001b[0mrow\u001b[0m\u001b[0;34m)\u001b[0m\u001b[0;34m:\u001b[0m\u001b[0;34m\u001b[0m\u001b[0;34m\u001b[0m\u001b[0m\n\u001b[0;32m---> 33\u001b[0;31m         \u001b[0;32mif\u001b[0m \u001b[0mrow\u001b[0m\u001b[0;34m[\u001b[0m\u001b[0;34m'HOMEDESCRIPTION'\u001b[0m\u001b[0;34m]\u001b[0m \u001b[0;34m!=\u001b[0m \u001b[0;32mNone\u001b[0m\u001b[0;34m:\u001b[0m\u001b[0;34m\u001b[0m\u001b[0;34m\u001b[0m\u001b[0m\n\u001b[0m\u001b[1;32m     34\u001b[0m             \u001b[0;32mif\u001b[0m \u001b[0;34m\"Turnover\"\u001b[0m \u001b[0;32min\u001b[0m \u001b[0mrow\u001b[0m\u001b[0;34m[\u001b[0m\u001b[0;34m'HOMEDESCRIPTION'\u001b[0m\u001b[0;34m]\u001b[0m\u001b[0;34m:\u001b[0m\u001b[0;34m\u001b[0m\u001b[0;34m\u001b[0m\u001b[0m\n\u001b[1;32m     35\u001b[0m                 \u001b[0;32mreturn\u001b[0m \u001b[0;34m\"HOME_TURNOVER\"\u001b[0m\u001b[0;34m\u001b[0m\u001b[0;34m\u001b[0m\u001b[0m\n\u001b[1;32m     36\u001b[0m             \u001b[0;32melif\u001b[0m \u001b[0mrow\u001b[0m\u001b[0;34m[\u001b[0m\u001b[0;34m'VISITORDESCRIPTION'\u001b[0m\u001b[0;34m]\u001b[0m \u001b[0;34m!=\u001b[0m \u001b[0;32mNone\u001b[0m\u001b[0;34m:\u001b[0m\u001b[0;34m\u001b[0m\u001b[0;34m\u001b[0m\u001b[0m\n",
      "\u001b[0;32m~/miniconda3/lib/python3.11/site-packages/pandas/core/generic.py\u001b[0m in \u001b[0;36m?\u001b[0;34m(self)\u001b[0m\n\u001b[1;32m   1517\u001b[0m     \u001b[0;34m@\u001b[0m\u001b[0mfinal\u001b[0m\u001b[0;34m\u001b[0m\u001b[0;34m\u001b[0m\u001b[0m\n\u001b[1;32m   1518\u001b[0m     \u001b[0;32mdef\u001b[0m \u001b[0m__nonzero__\u001b[0m\u001b[0;34m(\u001b[0m\u001b[0mself\u001b[0m\u001b[0;34m)\u001b[0m \u001b[0;34m->\u001b[0m \u001b[0mNoReturn\u001b[0m\u001b[0;34m:\u001b[0m\u001b[0;34m\u001b[0m\u001b[0;34m\u001b[0m\u001b[0m\n\u001b[0;32m-> 1519\u001b[0;31m         raise ValueError(\n\u001b[0m\u001b[1;32m   1520\u001b[0m             \u001b[0;34mf\"The truth value of a {type(self).__name__} is ambiguous. \"\u001b[0m\u001b[0;34m\u001b[0m\u001b[0;34m\u001b[0m\u001b[0m\n\u001b[1;32m   1521\u001b[0m             \u001b[0;34m\"Use a.empty, a.bool(), a.item(), a.any() or a.all().\"\u001b[0m\u001b[0;34m\u001b[0m\u001b[0;34m\u001b[0m\u001b[0m\n\u001b[1;32m   1522\u001b[0m         )\n",
      "\u001b[0;31mValueError\u001b[0m: The truth value of a Series is ambiguous. Use a.empty, a.bool(), a.item(), a.any() or a.all()."
     ]
    }
   ],
   "source": [
    "print(DescribeActions.parse_turnover(pbp.iloc[[98]]))"
   ]
  },
  {
   "cell_type": "code",
   "execution_count": 37,
   "id": "6687e95b-8db3-4495-b00e-9bcf277c8328",
   "metadata": {},
   "outputs": [
    {
     "name": "stdout",
     "output_type": "stream",
     "text": [
      "98    Fox STEAL (1 STL)\n",
      "Name: HOMEDESCRIPTION, dtype: object\n"
     ]
    }
   ],
   "source": [
    "print(pbp.iloc[[98]]['HOMEDESCRIPTION'])"
   ]
  },
  {
   "cell_type": "code",
   "execution_count": 39,
   "id": "8f24a46f-9592-4e62-8752-1bc5314e27b7",
   "metadata": {},
   "outputs": [
    {
     "name": "stderr",
     "output_type": "stream",
     "text": [
      "/var/folders/wt/9_6pdt8n2kz5f1cv6bqysq440000gn/T/ipykernel_10199/65423313.py:1: FutureWarning: Series.bool is now deprecated and will be removed in future version of pandas\n",
      "  if pbp.iloc[[98]]['HOMEDESCRIPTION'].bool() != None:\n"
     ]
    },
    {
     "ename": "ValueError",
     "evalue": "bool cannot act on a non-boolean single element Series",
     "output_type": "error",
     "traceback": [
      "\u001b[0;31m---------------------------------------------------------------------------\u001b[0m",
      "\u001b[0;31mValueError\u001b[0m                                Traceback (most recent call last)",
      "\u001b[0;32m/var/folders/wt/9_6pdt8n2kz5f1cv6bqysq440000gn/T/ipykernel_10199/65423313.py\u001b[0m in \u001b[0;36m?\u001b[0;34m()\u001b[0m\n\u001b[0;32m----> 1\u001b[0;31m \u001b[0;32mif\u001b[0m \u001b[0mpbp\u001b[0m\u001b[0;34m.\u001b[0m\u001b[0miloc\u001b[0m\u001b[0;34m[\u001b[0m\u001b[0;34m[\u001b[0m\u001b[0;36m98\u001b[0m\u001b[0;34m]\u001b[0m\u001b[0;34m]\u001b[0m\u001b[0;34m[\u001b[0m\u001b[0;34m'HOMEDESCRIPTION'\u001b[0m\u001b[0;34m]\u001b[0m\u001b[0;34m.\u001b[0m\u001b[0mbool\u001b[0m\u001b[0;34m(\u001b[0m\u001b[0;34m)\u001b[0m \u001b[0;34m!=\u001b[0m \u001b[0;32mNone\u001b[0m\u001b[0;34m:\u001b[0m\u001b[0;34m\u001b[0m\u001b[0;34m\u001b[0m\u001b[0m\n\u001b[0m\u001b[1;32m      2\u001b[0m     \u001b[0mprint\u001b[0m\u001b[0;34m(\u001b[0m\u001b[0;34m\"Not none\"\u001b[0m\u001b[0;34m)\u001b[0m\u001b[0;34m\u001b[0m\u001b[0;34m\u001b[0m\u001b[0m\n",
      "\u001b[0;32m~/miniconda3/lib/python3.11/site-packages/pandas/core/generic.py\u001b[0m in \u001b[0;36m?\u001b[0;34m(self)\u001b[0m\n\u001b[1;32m   1571\u001b[0m         \u001b[0mv\u001b[0m \u001b[0;34m=\u001b[0m \u001b[0mself\u001b[0m\u001b[0;34m.\u001b[0m\u001b[0msqueeze\u001b[0m\u001b[0;34m(\u001b[0m\u001b[0;34m)\u001b[0m\u001b[0;34m\u001b[0m\u001b[0;34m\u001b[0m\u001b[0m\n\u001b[1;32m   1572\u001b[0m         \u001b[0;32mif\u001b[0m \u001b[0misinstance\u001b[0m\u001b[0;34m(\u001b[0m\u001b[0mv\u001b[0m\u001b[0;34m,\u001b[0m \u001b[0;34m(\u001b[0m\u001b[0mbool\u001b[0m\u001b[0;34m,\u001b[0m \u001b[0mnp\u001b[0m\u001b[0;34m.\u001b[0m\u001b[0mbool_\u001b[0m\u001b[0;34m)\u001b[0m\u001b[0;34m)\u001b[0m\u001b[0;34m:\u001b[0m\u001b[0;34m\u001b[0m\u001b[0;34m\u001b[0m\u001b[0m\n\u001b[1;32m   1573\u001b[0m             \u001b[0;32mreturn\u001b[0m \u001b[0mbool\u001b[0m\u001b[0;34m(\u001b[0m\u001b[0mv\u001b[0m\u001b[0;34m)\u001b[0m\u001b[0;34m\u001b[0m\u001b[0;34m\u001b[0m\u001b[0m\n\u001b[1;32m   1574\u001b[0m         \u001b[0;32melif\u001b[0m \u001b[0mis_scalar\u001b[0m\u001b[0;34m(\u001b[0m\u001b[0mv\u001b[0m\u001b[0;34m)\u001b[0m\u001b[0;34m:\u001b[0m\u001b[0;34m\u001b[0m\u001b[0;34m\u001b[0m\u001b[0m\n\u001b[0;32m-> 1575\u001b[0;31m             raise ValueError(\n\u001b[0m\u001b[1;32m   1576\u001b[0m                 \u001b[0;34m\"bool cannot act on a non-boolean single element \"\u001b[0m\u001b[0;34m\u001b[0m\u001b[0;34m\u001b[0m\u001b[0m\n\u001b[1;32m   1577\u001b[0m                 \u001b[0;34mf\"{type(self).__name__}\"\u001b[0m\u001b[0;34m\u001b[0m\u001b[0;34m\u001b[0m\u001b[0m\n\u001b[1;32m   1578\u001b[0m             )\n",
      "\u001b[0;31mValueError\u001b[0m: bool cannot act on a non-boolean single element Series"
     ]
    }
   ],
   "source": [
    "if pbp.iloc[[98]]['HOMEDESCRIPTION'].bool() != None:\n",
    "    print(\"Not none\")"
   ]
  },
  {
   "cell_type": "code",
   "execution_count": 40,
   "id": "1e7a7aed-faad-4fcd-a3d2-cc6843763506",
   "metadata": {},
   "outputs": [
    {
     "name": "stdout",
     "output_type": "stream",
     "text": [
      "<class 'pandas.core.series.Series'>\n"
     ]
    }
   ],
   "source": [
    "print(type(pbp.iloc[[98]]['HOMEDESCRIPTION']))"
   ]
  },
  {
   "cell_type": "code",
   "execution_count": 42,
   "id": "a0080769-77bd-43f7-9630-74910cf2a71a",
   "metadata": {},
   "outputs": [
    {
     "name": "stdout",
     "output_type": "stream",
     "text": [
      "98    Fox STEAL (1 STL)\n",
      "Name: HOMEDESCRIPTION, dtype: object\n"
     ]
    }
   ],
   "source": [
    "print(str(pbp.iloc[[98]]['HOMEDESCRIPTION']))"
   ]
  },
  {
   "cell_type": "code",
   "execution_count": null,
   "id": "4a9061bd-b163-434b-876e-73d61560c00d",
   "metadata": {},
   "outputs": [],
   "source": []
  }
 ],
 "metadata": {
  "kernelspec": {
   "display_name": "Python 3 (ipykernel)",
   "language": "python",
   "name": "python3"
  },
  "language_info": {
   "codemirror_mode": {
    "name": "ipython",
    "version": 3
   },
   "file_extension": ".py",
   "mimetype": "text/x-python",
   "name": "python",
   "nbconvert_exporter": "python",
   "pygments_lexer": "ipython3",
   "version": "3.11.4"
  }
 },
 "nbformat": 4,
 "nbformat_minor": 5
}
