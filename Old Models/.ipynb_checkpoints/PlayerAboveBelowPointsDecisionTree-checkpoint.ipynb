{
 "cells": [
  {
   "cell_type": "code",
   "execution_count": 1,
   "id": "3f14a60c-d530-4fb7-9c06-a6493a741246",
   "metadata": {},
   "outputs": [],
   "source": [
    "#API and numerical imports\n",
    "from nba_api.stats.static import teams, players\n",
    "from nba_api.stats.endpoints import playercareerstats, leaguegamefinder, playergamelog, boxscoreadvancedv3\n",
    "from nba_api.stats.library.parameters import Season, SeasonType\n",
    "import pandas as pd\n",
    "import numpy as np\n",
    "from datetime import date\n",
    "import matplotlib.pyplot as plt"
   ]
  },
  {
   "cell_type": "code",
   "execution_count": 2,
   "id": "e703f81f-2933-4e04-8e2a-c2619159eaef",
   "metadata": {},
   "outputs": [],
   "source": [
    "#Machine learning imports\n",
    "from sklearn.model_selection import train_test_split\n",
    "from sklearn.naive_bayes import GaussianNB\n",
    "from sklearn.ensemble import GradientBoostingClassifier, RandomForestClassifier\n",
    "from sklearn.tree import DecisionTreeClassifier\n",
    "from sklearn.linear_model import LogisticRegression\n",
    "from sklearn.svm import SVC\n",
    "import sklearn\n",
    "import keras\n",
    "from keras.models import Sequential\n",
    "from keras.layers import Dense\n",
    "import tensorflow as tf\n",
    "from sklearn.metrics import confusion_matrix, ConfusionMatrixDisplay\n",
    "from sklearn.preprocessing import MinMaxScaler"
   ]
  },
  {
   "cell_type": "code",
   "execution_count": 3,
   "id": "a8fa8373-cab7-4f39-a5aa-21ba03259a1b",
   "metadata": {},
   "outputs": [],
   "source": [
    "#Predict above/below this number\n",
    "point_threshold = '30.0' \n",
    "player_full_name = \"LeBron James\"\n",
    "player_team_abbrev2 = \"CLE\"\n",
    "opp_abbrev2 = \"GSW\"\n",
    "game_date = \"NOV 29, 2023\" "
   ]
  },
  {
   "cell_type": "code",
   "execution_count": null,
   "id": "76f9ca2e-26c2-4418-bf18-656e8536e1c4",
   "metadata": {},
   "outputs": [],
   "source": []
  },
  {
   "cell_type": "code",
   "execution_count": 4,
   "id": "4305e6f3-4df9-411d-a811-1410ba074503",
   "metadata": {},
   "outputs": [],
   "source": [
    "#Retrieve player info (id, first name, last name, is_active, etc.\n",
    "player_details = [p for p in players.get_players() if p[\"full_name\"] == player_full_name][0]"
   ]
  },
  {
   "cell_type": "code",
   "execution_count": 5,
   "id": "2871f5af-7de1-4a53-9635-6257af73bff9",
   "metadata": {},
   "outputs": [],
   "source": [
    "#Retrieve all the seasons the player has been in the league\n",
    "career_stats = playercareerstats.PlayerCareerStats(player_id=player_details['id']).get_data_frames()[0]\n",
    "seasons = career_stats['SEASON_ID']"
   ]
  },
  {
   "cell_type": "code",
   "execution_count": 6,
   "id": "9f2a09ac-203e-4e47-9d4b-88fba006c2d2",
   "metadata": {},
   "outputs": [],
   "source": [
    "#Fix type of season\n",
    "season_type = SeasonType.regular"
   ]
  },
  {
   "cell_type": "code",
   "execution_count": 7,
   "id": "346662fa-0649-414a-b824-1ab16e24ecf6",
   "metadata": {},
   "outputs": [],
   "source": [
    "#Retrieve game-by-game stats for player \n",
    "season_data = {}\n",
    "for s in seasons:\n",
    "    season_data[s] = playergamelog.PlayerGameLog(player_id=player_details['id'], season=s, season_type_all_star=season_type).get_data_frames()[0]"
   ]
  },
  {
   "cell_type": "code",
   "execution_count": 8,
   "id": "29b163bc-0286-408c-8dba-e02f6ea30ee2",
   "metadata": {},
   "outputs": [
    {
     "data": {
      "text/plain": [
       "\"\\nFor each game, we want to extract the following information for training:\\n1. Opponent\\n2. Player's team\\n3. Days since last game\\n4. Game number\\n5. Average PPG since start of season\\n\""
      ]
     },
     "execution_count": 8,
     "metadata": {},
     "output_type": "execute_result"
    }
   ],
   "source": [
    "\"\"\"\n",
    "For each game, we want to extract the following information for training:\n",
    "1. Opponent\n",
    "2. Player's team\n",
    "3. Days since last game\n",
    "4. Game number\n",
    "5. Average PPG since start of season\n",
    "\"\"\"\n"
   ]
  },
  {
   "cell_type": "code",
   "execution_count": 9,
   "id": "b73dc4ed-cf41-464b-ba40-181080813a64",
   "metadata": {},
   "outputs": [],
   "source": [
    "#Form training arrays\n",
    "#Entries in each tuple agree with the above\n",
    "X = []\n",
    "#Y will be 1 if player scores above threshold, 0 if below\n",
    "Y = []"
   ]
  },
  {
   "cell_type": "code",
   "execution_count": 10,
   "id": "d6286094-7f97-446c-8245-23dae65cbb37",
   "metadata": {},
   "outputs": [],
   "source": [
    "#Label training data\n",
    "for season in season_data.keys():\n",
    "    currSeason = season_data[season]\n",
    "    for ind in currSeason.index:\n",
    "        if float(currSeason['PTS'][ind]) > float(point_threshold):\n",
    "            Y.append(1)\n",
    "        else:\n",
    "            Y.append(0)"
   ]
  },
  {
   "cell_type": "code",
   "execution_count": 11,
   "id": "5000f852-f8c7-41f8-b56d-3452163ecb74",
   "metadata": {},
   "outputs": [
    {
     "name": "stdout",
     "output_type": "stream",
     "text": [
      "1439\n"
     ]
    }
   ],
   "source": [
    "print(len(Y))"
   ]
  },
  {
   "cell_type": "code",
   "execution_count": 12,
   "id": "12be5109-439d-4941-a8aa-d452a57c4da0",
   "metadata": {},
   "outputs": [],
   "source": [
    "def correct_id(abbrev):\n",
    "    if abbrev == \"NJN\":\n",
    "        return \"BKN\"\n",
    "    elif abbrev == \"NOH\" or abbrev == \"NOK\":\n",
    "        return \"NOP\"\n",
    "    elif abbrev == \"SEA\":\n",
    "        return \"OKC\"\n",
    "    elif abbrev == \"PHO\":\n",
    "        return \"PHX\"\n",
    "    elif abbrev == \"GOS\":\n",
    "        return \"GSW\"\n",
    "    else:\n",
    "        return abbrev"
   ]
  },
  {
   "cell_type": "code",
   "execution_count": 13,
   "id": "d170ce85-86d7-470f-ac08-31b59127b054",
   "metadata": {},
   "outputs": [],
   "source": [
    "def get_team_id_from_abbrev(abbrev):\n",
    "    abbrev = correct_id(abbrev)\n",
    "    return [t for t in teams.get_teams() if t['abbreviation'] == abbrev][0]['id']"
   ]
  },
  {
   "cell_type": "code",
   "execution_count": 14,
   "id": "b8dae516-933c-4b20-9d87-e89cf47558c8",
   "metadata": {},
   "outputs": [],
   "source": [
    "#Collect player team and opponent team IDs for training data\n",
    "player_team_ids = []\n",
    "opp_team_ids = []\n",
    "for season in season_data.keys():\n",
    "    currSeason = season_data[season]\n",
    "    for ind in currSeason.index:\n",
    "        matchup = str(currSeason['MATCHUP'][ind])\n",
    "        player_team_abbrev = matchup[0:3]\n",
    "\n",
    "        #@ index\n",
    "        if \"@\" in matchup:\n",
    "            opp_team_abbrev = matchup[6:]\n",
    "        elif \"vs.\" in matchup:\n",
    "            opp_team_abbrev = matchup[8:]\n",
    "        else:\n",
    "            raise Exception(\"Unconforming matchup string: \" + matchup)\n",
    "\n",
    "        player_team_ids.append(get_team_id_from_abbrev(player_team_abbrev))\n",
    "        opp_team_ids.append(get_team_id_from_abbrev(opp_team_abbrev))"
   ]
  },
  {
   "cell_type": "code",
   "execution_count": 15,
   "id": "1e305956-82ce-446a-833d-4fc66b76f775",
   "metadata": {},
   "outputs": [],
   "source": [
    "months = {\n",
    "    \"JAN\": 1,\n",
    "    \"FEB\": 2,\n",
    "    \"MAR\": 3,\n",
    "    \"APR\": 4,\n",
    "    \"MAY\": 5,\n",
    "    \"JUN\": 6,\n",
    "    \"JUL\": 7,\n",
    "    \"AUG\": 8,\n",
    "    \"OCT\": 10,\n",
    "    \"NOV\": 11,\n",
    "    \"DEC\": 12\n",
    "}\n",
    "def convert_human_date(d):\n",
    "    month = months[d[0:3]]\n",
    "    day = int(d[4:6])\n",
    "    year = int(d[8:])\n",
    "\n",
    "    return date(year, month, day)\n",
    "    "
   ]
  },
  {
   "cell_type": "code",
   "execution_count": 16,
   "id": "8c6a6c04-a2b7-4037-99e3-75a68de2dfb9",
   "metadata": {},
   "outputs": [],
   "source": [
    "def distance_between_dates(d1, d2):\n",
    "    return int((d2 - d1).days)"
   ]
  },
  {
   "cell_type": "code",
   "execution_count": 17,
   "id": "e3bfa762-f9ca-4451-aebc-4ec33d8dda89",
   "metadata": {},
   "outputs": [],
   "source": [
    "#default days of rest set for the first game of the season:\n",
    "first_game_rest = 7"
   ]
  },
  {
   "cell_type": "code",
   "execution_count": 18,
   "id": "cfb9e1e6-b962-43d7-b22e-bd48da3daaba",
   "metadata": {},
   "outputs": [],
   "source": [
    "#Compute days since last game\n",
    "days_since_last_game = []\n",
    "for season in season_data.keys():\n",
    "    currSeason = season_data[season]\n",
    "    for ind in currSeason.index:\n",
    "        if (ind + 1) == len(currSeason.index):\n",
    "            days_since_last_game.append(first_game_rest)\n",
    "        else:\n",
    "            currGameDate = convert_human_date(str(currSeason[\"GAME_DATE\"][ind]))\n",
    "            lastGameDate = convert_human_date(str(currSeason[\"GAME_DATE\"][ind+1]))\n",
    "            days_since_last_game.append(distance_between_dates(lastGameDate, currGameDate))\n",
    "            "
   ]
  },
  {
   "cell_type": "code",
   "execution_count": 19,
   "id": "bbfb2516-f1e3-4dca-a8e9-9162884e0aad",
   "metadata": {},
   "outputs": [],
   "source": [
    "#Get the game number, in terms of the number of games that player has played in the season\n",
    "game_numbers = []\n",
    "for season in season_data.keys():\n",
    "    for ind in season_data[season].index:\n",
    "        game_numbers.append(len(season_data[season].index) - ind)"
   ]
  },
  {
   "cell_type": "code",
   "execution_count": 20,
   "id": "0ae5fa09-aa06-44bd-919f-0bc4dd0178f3",
   "metadata": {},
   "outputs": [],
   "source": [
    "#default average ppg since start of season for player\n",
    "default_first_game_ppg = 0.0"
   ]
  },
  {
   "cell_type": "code",
   "execution_count": 21,
   "id": "af98b60b-9a30-4e9c-a490-186564dd2ca8",
   "metadata": {},
   "outputs": [],
   "source": [
    "#Compute average ppg since start of season\n",
    "average_ppg = []\n",
    "for season in season_data.keys():\n",
    "    currSeason = season_data[season]\n",
    "    for ind in currSeason.index:\n",
    "        if (ind + 1) == len(currSeason.index):\n",
    "            average_ppg.append(default_first_game_ppg)\n",
    "        else:\n",
    "            sum = 0.0\n",
    "            for pts in currSeason[\"PTS\"][ind+1:len(currSeason.index)]:\n",
    "                sum += float(pts)\n",
    "            average_ppg.append(sum / (len(currSeason.index) - ind - 1))"
   ]
  },
  {
   "cell_type": "code",
   "execution_count": 22,
   "id": "bbc3478b-cec0-4b95-bc9b-f2cb4d0fc0cd",
   "metadata": {},
   "outputs": [],
   "source": [
    "#Zip together all the training input data\n",
    "for i in range(len(game_numbers)):\n",
    "    X.append([float(player_team_ids[i]), float(opp_team_ids[i]), float(days_since_last_game[i]), float(game_numbers[i]), average_ppg[i]])"
   ]
  },
  {
   "cell_type": "code",
   "execution_count": 23,
   "id": "c61a4e71-5c3a-45e7-97c3-2410427ad2b4",
   "metadata": {},
   "outputs": [
    {
     "data": {
      "text/plain": [
       "'\\nBelow we start doing preprocessing\\n'"
      ]
     },
     "execution_count": 23,
     "metadata": {},
     "output_type": "execute_result"
    }
   ],
   "source": [
    "\"\"\"\n",
    "Below we start doing preprocessing\n",
    "\"\"\""
   ]
  },
  {
   "cell_type": "code",
   "execution_count": 24,
   "id": "1a9d6d6d-61e5-4cbe-bbee-e1a30c965bf0",
   "metadata": {},
   "outputs": [],
   "source": [
    "Y = pd.DataFrame(Y)"
   ]
  },
  {
   "cell_type": "code",
   "execution_count": 25,
   "id": "ce15cd9f-9c37-46e6-8e8c-184f512f2121",
   "metadata": {},
   "outputs": [],
   "source": [
    "X = pd.DataFrame(X)"
   ]
  },
  {
   "cell_type": "code",
   "execution_count": 26,
   "id": "284be8d6-de97-407e-a74a-6875d1d1bcb3",
   "metadata": {},
   "outputs": [
    {
     "name": "stdout",
     "output_type": "stream",
     "text": [
      "1439\n"
     ]
    }
   ],
   "source": [
    "print(len(Y.index))"
   ]
  },
  {
   "cell_type": "code",
   "execution_count": 27,
   "id": "02a288b9-6f83-4184-99b1-f6d0661c5be8",
   "metadata": {},
   "outputs": [],
   "source": [
    "X_train, X_test, Y_train, Y_test = train_test_split(X, Y, test_size=0.25, random_state=0)"
   ]
  },
  {
   "cell_type": "code",
   "execution_count": 28,
   "id": "383ed644-a43c-4405-ae29-3344741a9ba0",
   "metadata": {},
   "outputs": [
    {
     "data": {
      "text/plain": [
       "'\\nNext, we begin constructing the classification model\\n'"
      ]
     },
     "execution_count": 28,
     "metadata": {},
     "output_type": "execute_result"
    }
   ],
   "source": [
    "\"\"\"\n",
    "Next, we begin constructing the classification model\n",
    "\"\"\""
   ]
  },
  {
   "cell_type": "code",
   "execution_count": 29,
   "id": "3ce12a6b-5100-41b1-aefc-5e0acfeca89c",
   "metadata": {},
   "outputs": [
    {
     "data": {
      "text/plain": [
       "0.675"
      ]
     },
     "execution_count": 29,
     "metadata": {},
     "output_type": "execute_result"
    }
   ],
   "source": [
    "svc = SVC()\n",
    "svc.fit(X_train, Y_train.values.ravel())\n",
    "svc.score(X_test, Y_test.values.ravel())"
   ]
  },
  {
   "cell_type": "code",
   "execution_count": 30,
   "id": "5a9fff9d-5feb-44fd-ae09-e8c1a3ae7829",
   "metadata": {},
   "outputs": [
    {
     "data": {
      "text/plain": [
       "0.675"
      ]
     },
     "execution_count": 30,
     "metadata": {},
     "output_type": "execute_result"
    }
   ],
   "source": [
    "log = LogisticRegression()\n",
    "log.fit(X_train, Y_train.values.ravel())\n",
    "log.score(X_test, Y_test)"
   ]
  },
  {
   "cell_type": "code",
   "execution_count": 31,
   "id": "9848797e-83d6-4529-96ee-775f02682bc4",
   "metadata": {},
   "outputs": [
    {
     "data": {
      "text/html": [
       "<style>#sk-container-id-1 {color: black;}#sk-container-id-1 pre{padding: 0;}#sk-container-id-1 div.sk-toggleable {background-color: white;}#sk-container-id-1 label.sk-toggleable__label {cursor: pointer;display: block;width: 100%;margin-bottom: 0;padding: 0.3em;box-sizing: border-box;text-align: center;}#sk-container-id-1 label.sk-toggleable__label-arrow:before {content: \"▸\";float: left;margin-right: 0.25em;color: #696969;}#sk-container-id-1 label.sk-toggleable__label-arrow:hover:before {color: black;}#sk-container-id-1 div.sk-estimator:hover label.sk-toggleable__label-arrow:before {color: black;}#sk-container-id-1 div.sk-toggleable__content {max-height: 0;max-width: 0;overflow: hidden;text-align: left;background-color: #f0f8ff;}#sk-container-id-1 div.sk-toggleable__content pre {margin: 0.2em;color: black;border-radius: 0.25em;background-color: #f0f8ff;}#sk-container-id-1 input.sk-toggleable__control:checked~div.sk-toggleable__content {max-height: 200px;max-width: 100%;overflow: auto;}#sk-container-id-1 input.sk-toggleable__control:checked~label.sk-toggleable__label-arrow:before {content: \"▾\";}#sk-container-id-1 div.sk-estimator input.sk-toggleable__control:checked~label.sk-toggleable__label {background-color: #d4ebff;}#sk-container-id-1 div.sk-label input.sk-toggleable__control:checked~label.sk-toggleable__label {background-color: #d4ebff;}#sk-container-id-1 input.sk-hidden--visually {border: 0;clip: rect(1px 1px 1px 1px);clip: rect(1px, 1px, 1px, 1px);height: 1px;margin: -1px;overflow: hidden;padding: 0;position: absolute;width: 1px;}#sk-container-id-1 div.sk-estimator {font-family: monospace;background-color: #f0f8ff;border: 1px dotted black;border-radius: 0.25em;box-sizing: border-box;margin-bottom: 0.5em;}#sk-container-id-1 div.sk-estimator:hover {background-color: #d4ebff;}#sk-container-id-1 div.sk-parallel-item::after {content: \"\";width: 100%;border-bottom: 1px solid gray;flex-grow: 1;}#sk-container-id-1 div.sk-label:hover label.sk-toggleable__label {background-color: #d4ebff;}#sk-container-id-1 div.sk-serial::before {content: \"\";position: absolute;border-left: 1px solid gray;box-sizing: border-box;top: 0;bottom: 0;left: 50%;z-index: 0;}#sk-container-id-1 div.sk-serial {display: flex;flex-direction: column;align-items: center;background-color: white;padding-right: 0.2em;padding-left: 0.2em;position: relative;}#sk-container-id-1 div.sk-item {position: relative;z-index: 1;}#sk-container-id-1 div.sk-parallel {display: flex;align-items: stretch;justify-content: center;background-color: white;position: relative;}#sk-container-id-1 div.sk-item::before, #sk-container-id-1 div.sk-parallel-item::before {content: \"\";position: absolute;border-left: 1px solid gray;box-sizing: border-box;top: 0;bottom: 0;left: 50%;z-index: -1;}#sk-container-id-1 div.sk-parallel-item {display: flex;flex-direction: column;z-index: 1;position: relative;background-color: white;}#sk-container-id-1 div.sk-parallel-item:first-child::after {align-self: flex-end;width: 50%;}#sk-container-id-1 div.sk-parallel-item:last-child::after {align-self: flex-start;width: 50%;}#sk-container-id-1 div.sk-parallel-item:only-child::after {width: 0;}#sk-container-id-1 div.sk-dashed-wrapped {border: 1px dashed gray;margin: 0 0.4em 0.5em 0.4em;box-sizing: border-box;padding-bottom: 0.4em;background-color: white;}#sk-container-id-1 div.sk-label label {font-family: monospace;font-weight: bold;display: inline-block;line-height: 1.2em;}#sk-container-id-1 div.sk-label-container {text-align: center;}#sk-container-id-1 div.sk-container {/* jupyter's `normalize.less` sets `[hidden] { display: none; }` but bootstrap.min.css set `[hidden] { display: none !important; }` so we also need the `!important` here to be able to override the default hidden behavior on the sphinx rendered scikit-learn.org. See: https://github.com/scikit-learn/scikit-learn/issues/21755 */display: inline-block !important;position: relative;}#sk-container-id-1 div.sk-text-repr-fallback {display: none;}</style><div id=\"sk-container-id-1\" class=\"sk-top-container\"><div class=\"sk-text-repr-fallback\"><pre>RandomForestClassifier()</pre><b>In a Jupyter environment, please rerun this cell to show the HTML representation or trust the notebook. <br />On GitHub, the HTML representation is unable to render, please try loading this page with nbviewer.org.</b></div><div class=\"sk-container\" hidden><div class=\"sk-item\"><div class=\"sk-estimator sk-toggleable\"><input class=\"sk-toggleable__control sk-hidden--visually\" id=\"sk-estimator-id-1\" type=\"checkbox\" checked><label for=\"sk-estimator-id-1\" class=\"sk-toggleable__label sk-toggleable__label-arrow\">RandomForestClassifier</label><div class=\"sk-toggleable__content\"><pre>RandomForestClassifier()</pre></div></div></div></div></div>"
      ],
      "text/plain": [
       "RandomForestClassifier()"
      ]
     },
     "execution_count": 31,
     "metadata": {},
     "output_type": "execute_result"
    }
   ],
   "source": [
    "rcf = RandomForestClassifier()\n",
    "rcf.fit(X_train, Y_train.values.ravel())"
   ]
  },
  {
   "cell_type": "code",
   "execution_count": 32,
   "id": "3914ee91-7f34-4174-a287-0dd3fd90d431",
   "metadata": {},
   "outputs": [],
   "source": [
    "gbc = GradientBoostingClassifier()"
   ]
  },
  {
   "cell_type": "code",
   "execution_count": 33,
   "id": "02723c23-a046-4c51-97f0-f97dcc3adb73",
   "metadata": {},
   "outputs": [
    {
     "data": {
      "text/html": [
       "<style>#sk-container-id-2 {color: black;}#sk-container-id-2 pre{padding: 0;}#sk-container-id-2 div.sk-toggleable {background-color: white;}#sk-container-id-2 label.sk-toggleable__label {cursor: pointer;display: block;width: 100%;margin-bottom: 0;padding: 0.3em;box-sizing: border-box;text-align: center;}#sk-container-id-2 label.sk-toggleable__label-arrow:before {content: \"▸\";float: left;margin-right: 0.25em;color: #696969;}#sk-container-id-2 label.sk-toggleable__label-arrow:hover:before {color: black;}#sk-container-id-2 div.sk-estimator:hover label.sk-toggleable__label-arrow:before {color: black;}#sk-container-id-2 div.sk-toggleable__content {max-height: 0;max-width: 0;overflow: hidden;text-align: left;background-color: #f0f8ff;}#sk-container-id-2 div.sk-toggleable__content pre {margin: 0.2em;color: black;border-radius: 0.25em;background-color: #f0f8ff;}#sk-container-id-2 input.sk-toggleable__control:checked~div.sk-toggleable__content {max-height: 200px;max-width: 100%;overflow: auto;}#sk-container-id-2 input.sk-toggleable__control:checked~label.sk-toggleable__label-arrow:before {content: \"▾\";}#sk-container-id-2 div.sk-estimator input.sk-toggleable__control:checked~label.sk-toggleable__label {background-color: #d4ebff;}#sk-container-id-2 div.sk-label input.sk-toggleable__control:checked~label.sk-toggleable__label {background-color: #d4ebff;}#sk-container-id-2 input.sk-hidden--visually {border: 0;clip: rect(1px 1px 1px 1px);clip: rect(1px, 1px, 1px, 1px);height: 1px;margin: -1px;overflow: hidden;padding: 0;position: absolute;width: 1px;}#sk-container-id-2 div.sk-estimator {font-family: monospace;background-color: #f0f8ff;border: 1px dotted black;border-radius: 0.25em;box-sizing: border-box;margin-bottom: 0.5em;}#sk-container-id-2 div.sk-estimator:hover {background-color: #d4ebff;}#sk-container-id-2 div.sk-parallel-item::after {content: \"\";width: 100%;border-bottom: 1px solid gray;flex-grow: 1;}#sk-container-id-2 div.sk-label:hover label.sk-toggleable__label {background-color: #d4ebff;}#sk-container-id-2 div.sk-serial::before {content: \"\";position: absolute;border-left: 1px solid gray;box-sizing: border-box;top: 0;bottom: 0;left: 50%;z-index: 0;}#sk-container-id-2 div.sk-serial {display: flex;flex-direction: column;align-items: center;background-color: white;padding-right: 0.2em;padding-left: 0.2em;position: relative;}#sk-container-id-2 div.sk-item {position: relative;z-index: 1;}#sk-container-id-2 div.sk-parallel {display: flex;align-items: stretch;justify-content: center;background-color: white;position: relative;}#sk-container-id-2 div.sk-item::before, #sk-container-id-2 div.sk-parallel-item::before {content: \"\";position: absolute;border-left: 1px solid gray;box-sizing: border-box;top: 0;bottom: 0;left: 50%;z-index: -1;}#sk-container-id-2 div.sk-parallel-item {display: flex;flex-direction: column;z-index: 1;position: relative;background-color: white;}#sk-container-id-2 div.sk-parallel-item:first-child::after {align-self: flex-end;width: 50%;}#sk-container-id-2 div.sk-parallel-item:last-child::after {align-self: flex-start;width: 50%;}#sk-container-id-2 div.sk-parallel-item:only-child::after {width: 0;}#sk-container-id-2 div.sk-dashed-wrapped {border: 1px dashed gray;margin: 0 0.4em 0.5em 0.4em;box-sizing: border-box;padding-bottom: 0.4em;background-color: white;}#sk-container-id-2 div.sk-label label {font-family: monospace;font-weight: bold;display: inline-block;line-height: 1.2em;}#sk-container-id-2 div.sk-label-container {text-align: center;}#sk-container-id-2 div.sk-container {/* jupyter's `normalize.less` sets `[hidden] { display: none; }` but bootstrap.min.css set `[hidden] { display: none !important; }` so we also need the `!important` here to be able to override the default hidden behavior on the sphinx rendered scikit-learn.org. See: https://github.com/scikit-learn/scikit-learn/issues/21755 */display: inline-block !important;position: relative;}#sk-container-id-2 div.sk-text-repr-fallback {display: none;}</style><div id=\"sk-container-id-2\" class=\"sk-top-container\"><div class=\"sk-text-repr-fallback\"><pre>GradientBoostingClassifier()</pre><b>In a Jupyter environment, please rerun this cell to show the HTML representation or trust the notebook. <br />On GitHub, the HTML representation is unable to render, please try loading this page with nbviewer.org.</b></div><div class=\"sk-container\" hidden><div class=\"sk-item\"><div class=\"sk-estimator sk-toggleable\"><input class=\"sk-toggleable__control sk-hidden--visually\" id=\"sk-estimator-id-2\" type=\"checkbox\" checked><label for=\"sk-estimator-id-2\" class=\"sk-toggleable__label sk-toggleable__label-arrow\">GradientBoostingClassifier</label><div class=\"sk-toggleable__content\"><pre>GradientBoostingClassifier()</pre></div></div></div></div></div>"
      ],
      "text/plain": [
       "GradientBoostingClassifier()"
      ]
     },
     "execution_count": 33,
     "metadata": {},
     "output_type": "execute_result"
    }
   ],
   "source": [
    "gbc.fit(X_train, Y_train.values.ravel())"
   ]
  },
  {
   "cell_type": "code",
   "execution_count": 34,
   "id": "ef3df6a1-edb2-4fbd-abe7-31ef3f02f1cb",
   "metadata": {},
   "outputs": [
    {
     "data": {
      "text/html": [
       "<style>#sk-container-id-3 {color: black;}#sk-container-id-3 pre{padding: 0;}#sk-container-id-3 div.sk-toggleable {background-color: white;}#sk-container-id-3 label.sk-toggleable__label {cursor: pointer;display: block;width: 100%;margin-bottom: 0;padding: 0.3em;box-sizing: border-box;text-align: center;}#sk-container-id-3 label.sk-toggleable__label-arrow:before {content: \"▸\";float: left;margin-right: 0.25em;color: #696969;}#sk-container-id-3 label.sk-toggleable__label-arrow:hover:before {color: black;}#sk-container-id-3 div.sk-estimator:hover label.sk-toggleable__label-arrow:before {color: black;}#sk-container-id-3 div.sk-toggleable__content {max-height: 0;max-width: 0;overflow: hidden;text-align: left;background-color: #f0f8ff;}#sk-container-id-3 div.sk-toggleable__content pre {margin: 0.2em;color: black;border-radius: 0.25em;background-color: #f0f8ff;}#sk-container-id-3 input.sk-toggleable__control:checked~div.sk-toggleable__content {max-height: 200px;max-width: 100%;overflow: auto;}#sk-container-id-3 input.sk-toggleable__control:checked~label.sk-toggleable__label-arrow:before {content: \"▾\";}#sk-container-id-3 div.sk-estimator input.sk-toggleable__control:checked~label.sk-toggleable__label {background-color: #d4ebff;}#sk-container-id-3 div.sk-label input.sk-toggleable__control:checked~label.sk-toggleable__label {background-color: #d4ebff;}#sk-container-id-3 input.sk-hidden--visually {border: 0;clip: rect(1px 1px 1px 1px);clip: rect(1px, 1px, 1px, 1px);height: 1px;margin: -1px;overflow: hidden;padding: 0;position: absolute;width: 1px;}#sk-container-id-3 div.sk-estimator {font-family: monospace;background-color: #f0f8ff;border: 1px dotted black;border-radius: 0.25em;box-sizing: border-box;margin-bottom: 0.5em;}#sk-container-id-3 div.sk-estimator:hover {background-color: #d4ebff;}#sk-container-id-3 div.sk-parallel-item::after {content: \"\";width: 100%;border-bottom: 1px solid gray;flex-grow: 1;}#sk-container-id-3 div.sk-label:hover label.sk-toggleable__label {background-color: #d4ebff;}#sk-container-id-3 div.sk-serial::before {content: \"\";position: absolute;border-left: 1px solid gray;box-sizing: border-box;top: 0;bottom: 0;left: 50%;z-index: 0;}#sk-container-id-3 div.sk-serial {display: flex;flex-direction: column;align-items: center;background-color: white;padding-right: 0.2em;padding-left: 0.2em;position: relative;}#sk-container-id-3 div.sk-item {position: relative;z-index: 1;}#sk-container-id-3 div.sk-parallel {display: flex;align-items: stretch;justify-content: center;background-color: white;position: relative;}#sk-container-id-3 div.sk-item::before, #sk-container-id-3 div.sk-parallel-item::before {content: \"\";position: absolute;border-left: 1px solid gray;box-sizing: border-box;top: 0;bottom: 0;left: 50%;z-index: -1;}#sk-container-id-3 div.sk-parallel-item {display: flex;flex-direction: column;z-index: 1;position: relative;background-color: white;}#sk-container-id-3 div.sk-parallel-item:first-child::after {align-self: flex-end;width: 50%;}#sk-container-id-3 div.sk-parallel-item:last-child::after {align-self: flex-start;width: 50%;}#sk-container-id-3 div.sk-parallel-item:only-child::after {width: 0;}#sk-container-id-3 div.sk-dashed-wrapped {border: 1px dashed gray;margin: 0 0.4em 0.5em 0.4em;box-sizing: border-box;padding-bottom: 0.4em;background-color: white;}#sk-container-id-3 div.sk-label label {font-family: monospace;font-weight: bold;display: inline-block;line-height: 1.2em;}#sk-container-id-3 div.sk-label-container {text-align: center;}#sk-container-id-3 div.sk-container {/* jupyter's `normalize.less` sets `[hidden] { display: none; }` but bootstrap.min.css set `[hidden] { display: none !important; }` so we also need the `!important` here to be able to override the default hidden behavior on the sphinx rendered scikit-learn.org. See: https://github.com/scikit-learn/scikit-learn/issues/21755 */display: inline-block !important;position: relative;}#sk-container-id-3 div.sk-text-repr-fallback {display: none;}</style><div id=\"sk-container-id-3\" class=\"sk-top-container\"><div class=\"sk-text-repr-fallback\"><pre>DecisionTreeClassifier()</pre><b>In a Jupyter environment, please rerun this cell to show the HTML representation or trust the notebook. <br />On GitHub, the HTML representation is unable to render, please try loading this page with nbviewer.org.</b></div><div class=\"sk-container\" hidden><div class=\"sk-item\"><div class=\"sk-estimator sk-toggleable\"><input class=\"sk-toggleable__control sk-hidden--visually\" id=\"sk-estimator-id-3\" type=\"checkbox\" checked><label for=\"sk-estimator-id-3\" class=\"sk-toggleable__label sk-toggleable__label-arrow\">DecisionTreeClassifier</label><div class=\"sk-toggleable__content\"><pre>DecisionTreeClassifier()</pre></div></div></div></div></div>"
      ],
      "text/plain": [
       "DecisionTreeClassifier()"
      ]
     },
     "execution_count": 34,
     "metadata": {},
     "output_type": "execute_result"
    }
   ],
   "source": [
    "dtc = DecisionTreeClassifier()\n",
    "dtc.fit(X_train, Y_train.values.ravel())"
   ]
  },
  {
   "cell_type": "code",
   "execution_count": 35,
   "id": "6b464420-a87c-4b81-b575-cb2efd0a0dae",
   "metadata": {},
   "outputs": [
    {
     "data": {
      "text/plain": [
       "'\\nNext, we have tools to calculate the desired input data for a player, to be used for predictions\\n'"
      ]
     },
     "execution_count": 35,
     "metadata": {},
     "output_type": "execute_result"
    }
   ],
   "source": [
    "\"\"\"\n",
    "Next, we have tools to calculate the desired input data for a player, to be used for predictions\n",
    "\"\"\""
   ]
  },
  {
   "cell_type": "code",
   "execution_count": null,
   "id": "2c88f3b0-661d-470c-8921-cb6a5086faa7",
   "metadata": {},
   "outputs": [],
   "source": []
  },
  {
   "cell_type": "code",
   "execution_count": 36,
   "id": "f7699e98-8cee-4151-bf55-6f8a1269f355",
   "metadata": {},
   "outputs": [],
   "source": [
    "opp_id, player_team_id = get_team_id_from_abbrev(opp_abbrev2), get_team_id_from_abbrev(player_team_abbrev2)\n",
    "days_elapsed = (convert_human_date(game_date) - convert_human_date(season_data[\"2023-24\"][\"GAME_DATE\"][0])).days\n",
    "game_number = len(season_data[\"2023-24\"].index) + 1\n",
    "average_ppg = 0.0\n",
    "currSeason = season_data['2023-24']\n",
    "for ind in currSeason.index:\n",
    "        if (ind + 1) == len(currSeason.index):\n",
    "            average_ppg = (default_first_game_ppg)\n",
    "        else:\n",
    "            sum = 0.0\n",
    "            for pts in currSeason[\"PTS\"][ind+1:len(currSeason.index)]:\n",
    "                sum += float(pts)\n",
    "            average_ppg = (sum / (len(currSeason.index) - ind - 1))\n",
    "input = pd.DataFrame([[float(player_team_id), float(opp_id), float(days_elapsed), float(game_number), float(average_ppg)]])"
   ]
  },
  {
   "cell_type": "code",
   "execution_count": 37,
   "id": "6397015e-b136-4d0b-9c71-7d9c7bdb5acb",
   "metadata": {},
   "outputs": [],
   "source": [
    "accuracies = []\n",
    "predictions = []"
   ]
  },
  {
   "cell_type": "code",
   "execution_count": 46,
   "id": "9e250492-ce12-4530-9897-a586029b1aff",
   "metadata": {},
   "outputs": [
    {
     "name": "stdout",
     "output_type": "stream",
     "text": [
      "SVC Accuracy: \n",
      "0.675\n",
      "SVC Prediction: \n",
      "0\n"
     ]
    }
   ],
   "source": [
    "score = svc.score(X_test, Y_test.values.ravel())\n",
    "prediction = svc.predict(input)[0]\n",
    "predictions.append(prediction)\n",
    "accuracies.append(score)\n",
    "print(\"SVC Accuracy: \")\n",
    "print(score)\n",
    "print(\"SVC Prediction: \")\n",
    "print(prediction)"
   ]
  },
  {
   "cell_type": "code",
   "execution_count": 47,
   "id": "8ccd9b8e-b37b-4766-b2b8-4f6070920f1b",
   "metadata": {},
   "outputs": [
    {
     "name": "stdout",
     "output_type": "stream",
     "text": [
      "Logistic Regression Accuracy: \n",
      "0.675\n",
      "Logistic Regression Prediction: \n",
      "0\n"
     ]
    }
   ],
   "source": [
    "score = log.score(X_test, Y_test.values.ravel())\n",
    "prediction = log.predict(input)[0]\n",
    "predictions.append(prediction)\n",
    "accuracies.append(score)\n",
    "print(\"Logistic Regression Accuracy: \")\n",
    "print(score)\n",
    "print(\"Logistic Regression Prediction: \")\n",
    "print(prediction)"
   ]
  },
  {
   "cell_type": "code",
   "execution_count": 48,
   "id": "5516a215-6ab2-43e1-8688-6d553fd4633e",
   "metadata": {},
   "outputs": [
    {
     "name": "stdout",
     "output_type": "stream",
     "text": [
      "Random Forest Accuracy: \n",
      "0.6111111111111112\n",
      "Random Forest Prediction: \n",
      "1\n"
     ]
    }
   ],
   "source": [
    "score = rcf.score(X_test, Y_test.values.ravel())\n",
    "prediction = rcf.predict(input)[0]\n",
    "predictions.append(prediction)\n",
    "accuracies.append(score)\n",
    "print(\"Random Forest Accuracy: \")\n",
    "print(score)\n",
    "print(\"Random Forest Prediction: \")\n",
    "print(prediction)"
   ]
  },
  {
   "cell_type": "code",
   "execution_count": 49,
   "id": "12d4505a-a429-4671-978b-24a099a86628",
   "metadata": {},
   "outputs": [
    {
     "name": "stdout",
     "output_type": "stream",
     "text": [
      "Gradient Boosting Accuracy: \n",
      "0.6472222222222223\n",
      "Gradient Boosting Prediction: \n",
      "1\n"
     ]
    }
   ],
   "source": [
    "score = gbc.score(X_test, Y_test.values.ravel())\n",
    "prediction = gbc.predict(input)[0]\n",
    "predictions.append(prediction)\n",
    "accuracies.append(score)\n",
    "print(\"Gradient Boosting Accuracy: \")\n",
    "print(score)\n",
    "print(\"Gradient Boosting Prediction: \")\n",
    "print(prediction)"
   ]
  },
  {
   "cell_type": "code",
   "execution_count": 50,
   "id": "f208d24f-e355-4f68-92c3-2c4578d9ebbf",
   "metadata": {},
   "outputs": [
    {
     "name": "stdout",
     "output_type": "stream",
     "text": [
      "Decision Tree Accuracy: \n",
      "0.5583333333333333\n",
      "Decision Tree Prediction: \n",
      "1\n"
     ]
    }
   ],
   "source": [
    "score = dtc.score(X_test, Y_test.values.ravel())\n",
    "prediction = dtc.predict(input)[0]\n",
    "predictions.append(prediction)\n",
    "accuracies.append(score)\n",
    "print(\"Decision Tree Accuracy: \")\n",
    "print(score)\n",
    "print(\"Decision Tree Prediction: \")\n",
    "print(prediction)"
   ]
  },
  {
   "cell_type": "code",
   "execution_count": 43,
   "id": "f37f6aa1-c5d2-4b28-bbe5-b8745b30bbe0",
   "metadata": {},
   "outputs": [],
   "source": [
    "#Betting tools"
   ]
  },
  {
   "cell_type": "code",
   "execution_count": 60,
   "id": "b52afd76-99fe-4cd9-af58-0674446baad0",
   "metadata": {},
   "outputs": [
    {
     "name": "stdout",
     "output_type": "stream",
     "text": [
      "Over with confidence 0.4666666666666667\n",
      "Average of all probabilities over: 0.49333333333333335\n",
      "Average of all probabilities under: 0.5066666666666666\n"
     ]
    }
   ],
   "source": [
    "cume = 0.0\n",
    "over_probabilities = []\n",
    "under_probabilities = []\n",
    "for i in range(len(predictions)):\n",
    "    if int(predictions[i]) == 1:\n",
    "        cume += accuracies[i]\n",
    "        over_probabilities.append(accuracies[i])\n",
    "        under_probabilities.append(1-accuracies[i])\n",
    "    else:\n",
    "        cume -= accuracies[i]\n",
    "        over_probabilities.append(1-accuracies[i])\n",
    "        under_probabilities.append(accuracies[i])\n",
    "\n",
    "if cume < 0.0:\n",
    "    print(\"Under probs with confidence \" + str(cume))\n",
    "else:\n",
    "    print(\"Over probs with confidence \" + str(cume))\n",
    "\n",
    "sum_of_overs = 0.0\n",
    "for i in over_probabilities:\n",
    "    sum_of_overs += i\n",
    "    \n",
    "sum_of_unders = 0.0\n",
    "for i in under_probabilities:\n",
    "    sum_of_unders += i\n",
    "\n",
    "print(\"Average of all probabilities over: \" + str(sum_of_overs / len(over_probabilities)))\n",
    "print(\"Average of all probabilities under: \" + str(sum_of_unders / len(under_probabilities)))\n",
    "        \n",
    "    "
   ]
  },
  {
   "cell_type": "code",
   "execution_count": null,
   "id": "a9750459-93fb-4241-bf64-1101be94146b",
   "metadata": {},
   "outputs": [],
   "source": []
  }
 ],
 "metadata": {
  "kernelspec": {
   "display_name": "Python 3 (ipykernel)",
   "language": "python",
   "name": "python3"
  },
  "language_info": {
   "codemirror_mode": {
    "name": "ipython",
    "version": 3
   },
   "file_extension": ".py",
   "mimetype": "text/x-python",
   "name": "python",
   "nbconvert_exporter": "python",
   "pygments_lexer": "ipython3",
   "version": "3.11.4"
  }
 },
 "nbformat": 4,
 "nbformat_minor": 5
}
