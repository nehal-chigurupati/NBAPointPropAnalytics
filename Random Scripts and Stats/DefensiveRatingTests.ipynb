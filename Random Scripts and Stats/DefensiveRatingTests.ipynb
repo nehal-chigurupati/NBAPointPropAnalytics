{
 "cells": [
  {
   "cell_type": "code",
   "execution_count": 1,
   "id": "168d9d07-7382-4d70-8232-563d72482ed2",
   "metadata": {},
   "outputs": [],
   "source": [
    "#API\n",
    "from nba_api.stats.static import teams, players\n",
    "from nba_api.stats.endpoints import playercareerstats, leaguegamefinder, playergamelog, boxscoreadvancedv3\n",
    "from nba_api.stats.library.parameters import Season, SeasonType\n",
    "import pandas as pd\n",
    "import numpy as np"
   ]
  },
  {
   "cell_type": "code",
   "execution_count": 5,
   "id": "e81a010d-4ae1-4815-96c3-147f45425b81",
   "metadata": {},
   "outputs": [],
   "source": [
    "player_full_name = \"LeBron James\"\n",
    "season_type = SeasonType.regular\n",
    "player_details = [p for p in players.get_players() if p[\"full_name\"] == player_full_name][0]"
   ]
  },
  {
   "cell_type": "code",
   "execution_count": 8,
   "id": "b6ee5a97-83bb-4683-ae9a-c73dc8c4b151",
   "metadata": {},
   "outputs": [],
   "source": [
    "season_data = {}\n",
    "career_stats = playercareerstats.PlayerCareerStats(player_id=player_details['id']).get_data_frames()[0]\n",
    "seasons = career_stats['SEASON_ID']"
   ]
  },
  {
   "cell_type": "code",
   "execution_count": 9,
   "id": "5da90ade-5dc9-44d3-8d86-96660540cc0c",
   "metadata": {},
   "outputs": [
    {
     "name": "stdout",
     "output_type": "stream",
     "text": [
      "    PLAYER_ID SEASON_ID LEAGUE_ID     TEAM_ID TEAM_ABBREVIATION  PLAYER_AGE  \\\n",
      "0        2544   2003-04        00  1610612739               CLE        19.0   \n",
      "1        2544   2004-05        00  1610612739               CLE        20.0   \n",
      "2        2544   2005-06        00  1610612739               CLE        21.0   \n",
      "3        2544   2006-07        00  1610612739               CLE        22.0   \n",
      "4        2544   2007-08        00  1610612739               CLE        23.0   \n",
      "5        2544   2008-09        00  1610612739               CLE        24.0   \n",
      "6        2544   2009-10        00  1610612739               CLE        25.0   \n",
      "7        2544   2010-11        00  1610612748               MIA        26.0   \n",
      "8        2544   2011-12        00  1610612748               MIA        27.0   \n",
      "9        2544   2012-13        00  1610612748               MIA        28.0   \n",
      "10       2544   2013-14        00  1610612748               MIA        29.0   \n",
      "11       2544   2014-15        00  1610612739               CLE        30.0   \n",
      "12       2544   2015-16        00  1610612739               CLE        31.0   \n",
      "13       2544   2016-17        00  1610612739               CLE        32.0   \n",
      "14       2544   2017-18        00  1610612739               CLE        33.0   \n",
      "15       2544   2018-19        00  1610612747               LAL        34.0   \n",
      "16       2544   2019-20        00  1610612747               LAL        35.0   \n",
      "17       2544   2020-21        00  1610612747               LAL        36.0   \n",
      "18       2544   2021-22        00  1610612747               LAL        37.0   \n",
      "19       2544   2022-23        00  1610612747               LAL        38.0   \n",
      "20       2544   2023-24        00  1610612747               LAL        38.0   \n",
      "\n",
      "    GP  GS     MIN  FGM  ...  FT_PCT  OREB  DREB  REB  AST  STL  BLK  TOV  \\\n",
      "0   79  79  3120.0  622  ...   0.754    99   333  432  465  130   58  273   \n",
      "1   80  80  3388.0  795  ...   0.750   111   477  588  577  177   52  262   \n",
      "2   79  79  3361.0  875  ...   0.738    75   481  556  521  123   66  260   \n",
      "3   78  78  3190.0  772  ...   0.698    83   443  526  470  125   55  250   \n",
      "4   75  74  3027.0  794  ...   0.712   133   459  592  539  138   81  255   \n",
      "5   81  81  3054.0  789  ...   0.780   106   507  613  587  137   93  241   \n",
      "6   76  76  2966.0  768  ...   0.767    71   483  554  651  125   77  261   \n",
      "7   79  79  3063.0  758  ...   0.759    80   510  590  554  124   50  284   \n",
      "8   62  62  2326.0  621  ...   0.771    94   398  492  387  115   50  213   \n",
      "9   76  76  2877.0  765  ...   0.753    97   513  610  551  129   67  226   \n",
      "10  77  77  2902.0  767  ...   0.750    81   452  533  488  121   26  270   \n",
      "11  69  69  2493.0  624  ...   0.710    51   365  416  511  109   49  272   \n",
      "12  76  76  2709.0  737  ...   0.731   111   454  565  514  104   49  249   \n",
      "13  74  74  2795.0  736  ...   0.674    97   542  639  646   92   44  303   \n",
      "14  82  82  3026.0  857  ...   0.731    97   612  709  747  116   71  347   \n",
      "15  55  55  1937.0  558  ...   0.665    57   408  465  454   72   33  197   \n",
      "16  67  67  2316.0  643  ...   0.693    66   459  525  684   78   36  261   \n",
      "17  45  45  1504.0  422  ...   0.698    29   317  346  350   48   25  168   \n",
      "18  56  56  2084.0  640  ...   0.756    63   396  459  349   73   59  196   \n",
      "19  55  54  1954.0  609  ...   0.768    65   392  457  375   50   32  178   \n",
      "20  12  12   407.0  115  ...   0.681     7    93  100   76   19   10   50   \n",
      "\n",
      "     PF   PTS  \n",
      "0   149  1654  \n",
      "1   146  2175  \n",
      "2   181  2478  \n",
      "3   171  2132  \n",
      "4   165  2250  \n",
      "5   139  2304  \n",
      "6   119  2258  \n",
      "7   163  2111  \n",
      "8    96  1683  \n",
      "9   110  2036  \n",
      "10  126  2089  \n",
      "11  135  1743  \n",
      "12  143  1920  \n",
      "13  134  1954  \n",
      "14  136  2251  \n",
      "15   94  1505  \n",
      "16  118  1698  \n",
      "17   70  1126  \n",
      "18  121  1695  \n",
      "19   88  1590  \n",
      "20   19   306  \n",
      "\n",
      "[21 rows x 27 columns]\n"
     ]
    }
   ],
   "source": [
    "print(career_stats)"
   ]
  },
  {
   "cell_type": "code",
   "execution_count": null,
   "id": "5b6ef879-e7d9-43be-a9d9-6d2276c4319c",
   "metadata": {},
   "outputs": [],
   "source": [
    "szn = player"
   ]
  }
 ],
 "metadata": {
  "kernelspec": {
   "display_name": "Python 3 (ipykernel)",
   "language": "python",
   "name": "python3"
  },
  "language_info": {
   "codemirror_mode": {
    "name": "ipython",
    "version": 3
   },
   "file_extension": ".py",
   "mimetype": "text/x-python",
   "name": "python",
   "nbconvert_exporter": "python",
   "pygments_lexer": "ipython3",
   "version": "3.11.4"
  }
 },
 "nbformat": 4,
 "nbformat_minor": 5
}
